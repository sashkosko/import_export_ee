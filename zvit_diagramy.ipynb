{
  "nbformat": 4,
  "nbformat_minor": 0,
  "metadata": {
    "colab": {
      "provenance": [],
      "mount_file_id": "1xTB82crPHoG2SBS8XTL4xBDAA7Vrv4MU",
      "authorship_tag": "ABX9TyO8zfvVTQLHgu/t6wNugdU3",
      "include_colab_link": true
    },
    "kernelspec": {
      "name": "python3",
      "display_name": "Python 3"
    },
    "language_info": {
      "name": "python"
    }
  },
  "cells": [
    {
      "cell_type": "markdown",
      "metadata": {
        "id": "view-in-github",
        "colab_type": "text"
      },
      "source": [
        "<a href=\"https://colab.research.google.com/github/sashkosko/import_export_ee/blob/main/zvit_diagramy.ipynb\" target=\"_parent\"><img src=\"https://colab.research.google.com/assets/colab-badge.svg\" alt=\"Open In Colab\"/></a>"
      ]
    },
    {
      "cell_type": "code",
      "source": [
        "import pandas as pd\n",
        "import re"
      ],
      "metadata": {
        "id": "EnpNgf93Woxr"
      },
      "execution_count": null,
      "outputs": []
    },
    {
      "cell_type": "markdown",
      "source": [
        "# Новий розділ"
      ],
      "metadata": {
        "id": "o03V2yccju11"
      }
    },
    {
      "cell_type": "code",
      "source": [
        "df = pd.read_excel('/content/drive/MyDrive/energy-map/public/aid/aid.xlsx', engine='openpyxl')\n",
        "#Залишимо в df лише ті рядки, де в стовбці \"Зона бойових дій\" значення не дорівнює \"-1\"\n",
        "df = df[df['Зона бойових дій'] != -1]\n",
        "# #Залишимо в df лише ті рядки, де в стовбці \"Зона бойових дій\" значення не порожнє\n",
        "df = df[df['Зона бойових дій'].notna()]"
      ],
      "metadata": {
        "colab": {
          "base_uri": "https://localhost:8080/"
        },
        "id": "AO-UjTUnYEwG",
        "outputId": "a3d3a6c5-10f5-4508-dc1b-d2dea7f72fb0"
      },
      "execution_count": null,
      "outputs": [
        {
          "output_type": "stream",
          "name": "stderr",
          "text": [
            "/usr/local/lib/python3.10/dist-packages/openpyxl/worksheet/_reader.py:312: UserWarning: Unknown extension is not supported and will be removed\n",
            "  warn(msg)\n"
          ]
        }
      ]
    },
    {
      "cell_type": "code",
      "source": [
        "# -- Генератори (а розрізі потужності і регіонів)\n",
        "df = pd.read_excel('/content/drive/MyDrive/energy-map/public/aid/aid.xlsx', engine='openpyxl')\n",
        "#Залишимо в df лише ті рядки, де в стовбці \"Зона бойових дій\" значення не дорівнює \"-1\"\n",
        "df = df[df['Зона бойових дій'] != -1]\n",
        "# #Залишимо в df лише ті рядки, де в стовбці \"Зона бойових дій\" значення не порожнє\n",
        "# df = df[df['Зона бойових дій'].notna()]\n",
        "df['Забезпечено загалом'] = df['Загальний обсяг'] - df['Незабезпечена потреба, абс. знач']\n",
        "# Залишимо в df лише ті рядки, де в стовбці \"Тип потреби\" значення рівне \"Електростанції (генератори) та обладнання\", і в стовбчику \"Вид потреби\" значення рівне \"Газотурбінні установки\"\n",
        "df = df[(df['Тип потреби'] == 'Електростанції (генератори) та обладнання') | (df['Вид потреби'] == 'Газотурбінні установки')]\n",
        "# Видалимо рядки де в стовбчику \"Вид потреби\" значення \"Генератори (запчастини, сервісні, ремонтні комплекти, інше)\"\n",
        "df = df[df['Вид потреби'] != 'Генератори (запчастини, сервісні, ремонтні комплекти, інше)']\n",
        "# Залишимо в df лише такі стовбці\n",
        "df = df[['Вид потреби', 'Область', 'Загальний обсяг', 'Забезпечено загалом', 'Незабезпечена потреба, абс. знач']]\n",
        "# Згрупуємо дані за стовбцями\n",
        "df = df.groupby(['Вид потреби', 'Область']).sum()\n",
        "# Додамо до вже існуючого файлу result.xlsx вкладку із даними df (ігноруючи індекси)\n",
        "with pd.ExcelWriter('/content/drive/MyDrive/energy-map/public/aid/temp.xlsx', mode='a') as writer:\n",
        "    df.to_excel(writer, sheet_name='Генератори')"
      ],
      "metadata": {
        "id": "D5qz7VSceGRz"
      },
      "execution_count": null,
      "outputs": []
    },
    {
      "cell_type": "code",
      "source": [
        "# -- Генератори (а розрізі потужності)\n",
        "df = pd.read_excel('/content/drive/MyDrive/energy-map/public/aid/aid.xlsx', engine='openpyxl')\n",
        "#Залишимо в df лише ті рядки, де в стовбці \"Зона бойових дій\" значення не дорівнює \"-1\"\n",
        "df = df[df['Зона бойових дій'] != -1]\n",
        "# #Залишимо в df лише ті рядки, де в стовбці \"Зона бойових дій\" значення не порожнє\n",
        "# df = df[df['Зона бойових дій'].notna()]\n",
        "df['Забезпечено загалом'] = df['Загальний обсяг'] - df['Незабезпечена потреба, абс. знач']\n",
        "# Залишимо в df лише ті рядки, де в стовбці \"Тип потреби\" значення рівне \"Електростанції (генератори) та обладнання\", і в стовбчику \"Вид потреби\" значення рівне \"Газотурбінні установки\"\n",
        "df = df[(df['Тип потреби'] == 'Електростанції (генератори) та обладнання') | (df['Вид потреби'] == 'Газотурбінні установки')]\n",
        "# Видалимо рядки де в стовбчику \"Вид потреби\" значення \"Генератори (запчастини, сервісні, ремонтні комплекти, інше)\"\n",
        "df = df[df['Вид потреби'] != 'Генератори (запчастини, сервісні, ремонтні комплекти, інше)']\n",
        "# Залишимо в df лише такі стовбці\n",
        "df = df[['Вид потреби', 'Загальний обсяг', 'Забезпечено загалом', 'Незабезпечена потреба, абс. знач']]\n",
        "# Згрупуємо дані за стовбцем \"Вид потреби\"\n",
        "# df = df.groupby(['Вид потреби']).sum()\n",
        "df = df.groupby('Вид потреби', as_index=False).sum()\n",
        "# Щоб результат був відсортований в потрібному порядку (генератори за потужністю а потім газотурбінні установки), напишемо такий словник\n",
        "names = {\"<10 кВт\": 1, \"10-30 кВт\": 2, \"30-100 кВт\": 3, \"100-300 кВт\": 4, \"300-500 кВт\": 5, \"500-700 кВт\": 6, \"700-1000 кВт\": 7, \"1000-1500 кВт\": 8, \"1500-2000 кВт\": 9, \">2000 кВт\": 10, \"Газотурбінні установки\": 11}\n",
        "# Додамо стовбчик num\n",
        "df['number'] = df['Вид потреби'].map(names)\n",
        "df = df.sort_values(by='number')\n",
        "# Залишимо потрібні стовбчики\n",
        "df = df[['Вид потреби', 'Загальний обсяг', 'Забезпечено загалом', 'Незабезпечена потреба, абс. знач']]\n",
        "\n",
        "# Додамо до вже існуючого файлу result.xlsx вкладку із даними df (ігноруючи індекси)\n",
        "with pd.ExcelWriter('/content/drive/MyDrive/energy-map/public/aid/temp.xlsx', mode='a') as writer:\n",
        "    df.to_excel(writer, sheet_name='Генератори1')"
      ],
      "metadata": {
        "id": "drL4-cwafyzl"
      },
      "execution_count": null,
      "outputs": []
    },
    {
      "cell_type": "code",
      "source": [
        "# -- Генератори (а розрізі областей без розбивання на типи потужності)\n",
        "df = pd.read_excel('/content/drive/MyDrive/energy-map/public/aid/aid.xlsx', engine='openpyxl')\n",
        "#Залишимо в df лише ті рядки, де в стовбці \"Зона бойових дій\" значення не дорівнює \"-1\"\n",
        "df = df[df['Зона бойових дій'] != -1]\n",
        "# #Залишимо в df лише ті рядки, де в стовбці \"Зона бойових дій\" значення не порожнє\n",
        "# df = df[df['Зона бойових дій'].notna()]\n",
        "df['Забезпечено загалом'] = df['Загальний обсяг'] - df['Незабезпечена потреба, абс. знач']\n",
        "# Залишимо в df лише ті рядки, де в стовбці \"Тип потреби\" значення рівне \"Електростанції (генератори) та обладнання\", і в стовбчику \"Вид потреби\" значення рівне \"Газотурбінні установки\"\n",
        "df = df[(df['Тип потреби'] == 'Електростанції (генератори) та обладнання') | (df['Вид потреби'] == 'Газотурбінні установки')]\n",
        "# Видалимо рядки де в стовбчику \"Вид потреби\" значення \"Генератори (запчастини, сервісні, ремонтні комплекти, інше)\"\n",
        "df = df[df['Вид потреби'] != 'Генератори (запчастини, сервісні, ремонтні комплекти, інше)']\n",
        "# Залишимо в df лише такі стовбці\n",
        "df = df[['Область', 'Загальний обсяг', 'Забезпечено загалом', 'Незабезпечена потреба, абс. знач']]\n",
        "# Згрупуємо дані за стовбцем\n",
        "df = df.groupby(['Область']).sum()\n",
        "# Відсортуємо df по стовбцю\n",
        "df = df.sort_values(by='Загальний обсяг', ascending=False)\n",
        "# Додамо до вже існуючого файлу result.xlsx вкладку із даними df (ігноруючи індекси)\n",
        "with pd.ExcelWriter('/content/drive/MyDrive/energy-map/public/aid/temp.xlsx', mode='a') as writer:\n",
        "    df.to_excel(writer, sheet_name='Генератори0')"
      ],
      "metadata": {
        "id": "L_BWl0j1v_kw"
      },
      "execution_count": null,
      "outputs": []
    },
    {
      "cell_type": "code",
      "source": [
        "# -- Генератори (ТОП5 компаній з областями)\n",
        "df = pd.read_excel('/content/drive/MyDrive/energy-map/public/aid/aid.xlsx', engine='openpyxl')\n",
        "#Залишимо в df лише ті рядки, де в стовбці \"Зона бойових дій\" значення не дорівнює \"-1\"\n",
        "df = df[df['Зона бойових дій'] != -1]\n",
        "# #Залишимо в df лише ті рядки, де в стовбці \"Зона бойових дій\" значення не порожнє\n",
        "# df = df[df['Зона бойових дій'].notna()]\n",
        "# df['Забезпечено загалом'] = df['Загальний обсяг'] - df['Незабезпечена потреба, абс. знач']\n",
        "# Залишимо в df лише ті рядки, де в стовбці \"Тип потреби\" значення рівне \"Електростанції (генератори) та обладнання\", і в стовбчику \"Вид потреби\" значення рівне \"Газотурбінні установки\"\n",
        "df = df[(df['Тип потреби'] == 'Електростанції (генератори) та обладнання') | (df['Вид потреби'] == 'Газотурбінні установки')]\n",
        "# Видалимо рядки де в стовбчику \"Вид потреби\" значення \"Генератори (запчастини, сервісні, ремонтні комплекти, інше)\"\n",
        "df = df[df['Вид потреби'] != 'Генератори (запчастини, сервісні, ремонтні комплекти, інше)']\n",
        "# Залишимо в df лише такі стовбці\n",
        "df = df[['Назва  Набувача', 'Область', 'Загальний обсяг', 'Незабезпечена потреба, абс. знач']]\n",
        "# Згрупуємо дані за стовбцем\n",
        "df = df.groupby(['Назва  Набувача', 'Область']).sum()\n",
        "# Відсортуємо df по стовбцю 'Загальний обсяг' (від найбільшого до найменшого)\n",
        "df = df.sort_values(by='Загальний обсяг', ascending=False)\n",
        "# Залишимо лише 5 перших рядків\n",
        "df = df.head(5)\n",
        "# Додамо до вже існуючого файлу result.xlsx вкладку із даними df (ігноруючи індекси)\n",
        "with pd.ExcelWriter('/content/drive/MyDrive/energy-map/public/aid/temp.xlsx', mode='a') as writer:\n",
        "    df.to_excel(writer, sheet_name='Генератори3')"
      ],
      "metadata": {
        "id": "nz3OWMdmmGJw"
      },
      "execution_count": null,
      "outputs": []
    },
    {
      "cell_type": "code",
      "source": [
        "# -- Генератори (Це для ТОП5 найменш задоволених потреб)\n",
        "df = pd.read_excel('/content/drive/MyDrive/energy-map/public/aid/aid.xlsx', engine='openpyxl')\n",
        "#Залишимо в df лише ті рядки, де в стовбці \"Зона бойових дій\" значення не дорівнює \"-1\"\n",
        "df = df[df['Зона бойових дій'] != -1]\n",
        "# #Залишимо в df лише ті рядки, де в стовбці \"Зона бойових дій\" значення не порожнє\n",
        "# df = df[df['Зона бойових дій'].notna()]\n",
        "# df['Забезпечено загалом'] = df['Загальний обсяг'] - df['Незабезпечена потреба, абс. знач']\n",
        "# Залишимо в df лише ті рядки, де в стовбці \"Тип потреби\" значення рівне \"Електростанції (генератори) та обладнання\", і в стовбчику \"Вид потреби\" значення рівне \"Газотурбінні установки\"\n",
        "df = df[(df['Тип потреби'] == 'Електростанції (генератори) та обладнання') | (df['Вид потреби'] == 'Газотурбінні установки')]\n",
        "# Видалимо рядки де в стовбчику \"Вид потреби\" значення \"Генератори (запчастини, сервісні, ремонтні комплекти, інше)\"\n",
        "df = df[df['Вид потреби'] != 'Генератори (запчастини, сервісні, ремонтні комплекти, інше)']\n",
        "# Залишимо в df лише такі стовбці\n",
        "df = df[['Назва  Набувача', 'Область', 'Загальний обсяг', 'Незабезпечена потреба, абс. знач']]\n",
        "# Згрупуємо дані за стовбцем\n",
        "df = df.groupby(['Назва  Набувача', 'Область']).sum()\n",
        "# Відсортуємо df по стовбцю 'Загальний обсяг' (від найбільшого до найменшого)\n",
        "df = df.sort_values(by='Незабезпечена потреба, абс. знач', ascending=False)\n",
        "# Залишимо лише 5 перших рядків\n",
        "df = df.head(5)\n",
        "# Додамо до вже існуючого файлу result.xlsx вкладку із даними df (ігноруючи індекси)\n",
        "with pd.ExcelWriter('/content/drive/MyDrive/energy-map/public/aid/temp.xlsx', mode='a') as writer:\n",
        "    df.to_excel(writer, sheet_name='Генератори5')"
      ],
      "metadata": {
        "id": "ZT9IysvHYXwF"
      },
      "execution_count": null,
      "outputs": []
    },
    {
      "cell_type": "code",
      "source": [
        "# -- Генератори (забезпечено самостійно)\n",
        "df = pd.read_excel('/content/drive/MyDrive/energy-map/public/aid/aid.xlsx', engine='openpyxl')\n",
        "#Залишимо в df лише ті рядки, де в стовбці \"Зона бойових дій\" значення не дорівнює \"-1\"\n",
        "df = df[df['Зона бойових дій'] != -1]\n",
        "# #Залишимо в df лише ті рядки, де в стовбці \"Зона бойових дій\" значення не порожнє\n",
        "# df = df[df['Зона бойових дій'].notna()]\n",
        "# df['Забезпечено загалом'] = df['Загальний обсяг'] - df['Незабезпечена потреба, абс. знач']\n",
        "# Залишимо в df лише ті рядки, де в стовбці \"Тип потреби\" значення рівне \"Електростанції (генератори) та обладнання\", і в стовбчику \"Вид потреби\" значення рівне \"Газотурбінні установки\"\n",
        "df = df[(df['Тип потреби'] == 'Електростанції (генератори) та обладнання') | (df['Вид потреби'] == 'Газотурбінні установки')]\n",
        "# Видалимо рядки де в стовбчику \"Вид потреби\" значення \"Генератори (запчастини, сервісні, ремонтні комплекти, інше)\"\n",
        "df = df[df['Вид потреби'] != 'Генератори (запчастини, сервісні, ремонтні комплекти, інше)']\n",
        "# Залишимо в df лише такі стовбці\n",
        "df = df[['Вид потреби', 'Загальний обсяг', 'Забезпечено самостійно, гумдопомога', 'Забезпечено самостійно, закупівлі', 'Незабезпечена потреба, абс. знач']]\n",
        "# Згрупуємо дані за стовбцем\n",
        "df = df.groupby(['Вид потреби']).sum()\n",
        "# Відсортуємо df по стовбцю\n",
        "df = df.sort_values(by='Загальний обсяг', ascending=False)\n",
        "# Додамо до вже існуючого файлу result.xlsx вкладку із даними df (ігноруючи індекси)\n",
        "with pd.ExcelWriter('/content/drive/MyDrive/energy-map/public/aid/temp.xlsx', mode='a') as writer:\n",
        "    df.to_excel(writer, sheet_name='Генератори4')"
      ],
      "metadata": {
        "id": "72R4M-0XrGy0"
      },
      "execution_count": null,
      "outputs": []
    },
    {
      "cell_type": "code",
      "source": [
        "# Генератори (ті що відправлені без потреби, в розрізі потужності)\n",
        "df = pd.read_excel('/content/drive/MyDrive/energy-map/public/aid/aid.xlsx', sheet_name=\"Відгрузки\", engine='openpyxl')\n",
        "# В df залишимо лише ті рядки в яких в стовбчику \"ID Позиції\" значення або \"PT100001\" або порожнє значення\n",
        "df = df[(df['ID Позиції'] == 'PT100001') | (df['ID Позиції'].isnull())]\n",
        "#Залишимо в df лише ті рядки, де в стовбці \"Зона бойових дій\" значення не дорівнює \"-1\"\n",
        "df = df[df['Зона бойових дій'] != -1]\n",
        "# Залишимо в df лише ті рядки, де в стовбці \"Тип потреби\" значення рівне \"Електростанції (генератори) та обладнання\", і в стовбчику \"Вид потреби\" значення рівне \"Газотурбінні установки\"\n",
        "df = df[(df['Тип потреби'] == 'Електростанції (генератори) та обладнання') | (df['Вид потреби'] == 'Газотурбінні установки')]\n",
        "# Видалимо рядки де в стовбчику \"Вид потреби\" значення \"Генератори (запчастини, сервісні, ремонтні комплекти, інше)\"\n",
        "df = df[df['Вид потреби'] != 'Генератори (запчастини, сервісні, ремонтні комплекти, інше)']\n",
        "# Залишимо в df лише такі стовбці\n",
        "df = df[['Вид потреби', 'Обсяг']]\n",
        "# Згрупуємо дані за стовбцем\n",
        "df = df.groupby(['Вид потреби']).sum()\n",
        "\n",
        "# Відсортуємо df по стовбцю\n",
        "# df = df.sort_values(by='Обсяг', ascending=False)\n",
        "\n",
        "# Додамо до вже існуючого файлу\n",
        "with pd.ExcelWriter('/content/drive/MyDrive/energy-map/public/aid/temp.xlsx', mode='a') as writer:\n",
        "    df.to_excel(writer, sheet_name='Генератори_відгрузки')"
      ],
      "metadata": {
        "id": "_WiVmhmS7jKx",
        "colab": {
          "base_uri": "https://localhost:8080/",
          "height": 300
        },
        "outputId": "20745dee-821b-425a-d97b-88a9dd5638ae"
      },
      "execution_count": null,
      "outputs": [
        {
          "output_type": "execute_result",
          "data": {
            "text/plain": [
              "               Обсяг\n",
              "Вид потреби         \n",
              "10-30 кВт       28.0\n",
              "100-300 кВт     41.0\n",
              "1000-1500 кВт    3.0\n",
              "30-100 кВт     123.0\n",
              "300-500 кВт     11.0\n",
              "700-1000 кВт     1.0\n",
              "<10 кВт        213.0"
            ],
            "text/html": [
              "\n",
              "  <div id=\"df-3b5d49ab-5179-472f-ba08-ff0a0d900962\">\n",
              "    <div class=\"colab-df-container\">\n",
              "      <div>\n",
              "<style scoped>\n",
              "    .dataframe tbody tr th:only-of-type {\n",
              "        vertical-align: middle;\n",
              "    }\n",
              "\n",
              "    .dataframe tbody tr th {\n",
              "        vertical-align: top;\n",
              "    }\n",
              "\n",
              "    .dataframe thead th {\n",
              "        text-align: right;\n",
              "    }\n",
              "</style>\n",
              "<table border=\"1\" class=\"dataframe\">\n",
              "  <thead>\n",
              "    <tr style=\"text-align: right;\">\n",
              "      <th></th>\n",
              "      <th>Обсяг</th>\n",
              "    </tr>\n",
              "    <tr>\n",
              "      <th>Вид потреби</th>\n",
              "      <th></th>\n",
              "    </tr>\n",
              "  </thead>\n",
              "  <tbody>\n",
              "    <tr>\n",
              "      <th>10-30 кВт</th>\n",
              "      <td>28.0</td>\n",
              "    </tr>\n",
              "    <tr>\n",
              "      <th>100-300 кВт</th>\n",
              "      <td>41.0</td>\n",
              "    </tr>\n",
              "    <tr>\n",
              "      <th>1000-1500 кВт</th>\n",
              "      <td>3.0</td>\n",
              "    </tr>\n",
              "    <tr>\n",
              "      <th>30-100 кВт</th>\n",
              "      <td>123.0</td>\n",
              "    </tr>\n",
              "    <tr>\n",
              "      <th>300-500 кВт</th>\n",
              "      <td>11.0</td>\n",
              "    </tr>\n",
              "    <tr>\n",
              "      <th>700-1000 кВт</th>\n",
              "      <td>1.0</td>\n",
              "    </tr>\n",
              "    <tr>\n",
              "      <th>&lt;10 кВт</th>\n",
              "      <td>213.0</td>\n",
              "    </tr>\n",
              "  </tbody>\n",
              "</table>\n",
              "</div>\n",
              "      <button class=\"colab-df-convert\" onclick=\"convertToInteractive('df-3b5d49ab-5179-472f-ba08-ff0a0d900962')\"\n",
              "              title=\"Convert this dataframe to an interactive table.\"\n",
              "              style=\"display:none;\">\n",
              "        \n",
              "  <svg xmlns=\"http://www.w3.org/2000/svg\" height=\"24px\"viewBox=\"0 0 24 24\"\n",
              "       width=\"24px\">\n",
              "    <path d=\"M0 0h24v24H0V0z\" fill=\"none\"/>\n",
              "    <path d=\"M18.56 5.44l.94 2.06.94-2.06 2.06-.94-2.06-.94-.94-2.06-.94 2.06-2.06.94zm-11 1L8.5 8.5l.94-2.06 2.06-.94-2.06-.94L8.5 2.5l-.94 2.06-2.06.94zm10 10l.94 2.06.94-2.06 2.06-.94-2.06-.94-.94-2.06-.94 2.06-2.06.94z\"/><path d=\"M17.41 7.96l-1.37-1.37c-.4-.4-.92-.59-1.43-.59-.52 0-1.04.2-1.43.59L10.3 9.45l-7.72 7.72c-.78.78-.78 2.05 0 2.83L4 21.41c.39.39.9.59 1.41.59.51 0 1.02-.2 1.41-.59l7.78-7.78 2.81-2.81c.8-.78.8-2.07 0-2.86zM5.41 20L4 18.59l7.72-7.72 1.47 1.35L5.41 20z\"/>\n",
              "  </svg>\n",
              "      </button>\n",
              "      \n",
              "  <style>\n",
              "    .colab-df-container {\n",
              "      display:flex;\n",
              "      flex-wrap:wrap;\n",
              "      gap: 12px;\n",
              "    }\n",
              "\n",
              "    .colab-df-convert {\n",
              "      background-color: #E8F0FE;\n",
              "      border: none;\n",
              "      border-radius: 50%;\n",
              "      cursor: pointer;\n",
              "      display: none;\n",
              "      fill: #1967D2;\n",
              "      height: 32px;\n",
              "      padding: 0 0 0 0;\n",
              "      width: 32px;\n",
              "    }\n",
              "\n",
              "    .colab-df-convert:hover {\n",
              "      background-color: #E2EBFA;\n",
              "      box-shadow: 0px 1px 2px rgba(60, 64, 67, 0.3), 0px 1px 3px 1px rgba(60, 64, 67, 0.15);\n",
              "      fill: #174EA6;\n",
              "    }\n",
              "\n",
              "    [theme=dark] .colab-df-convert {\n",
              "      background-color: #3B4455;\n",
              "      fill: #D2E3FC;\n",
              "    }\n",
              "\n",
              "    [theme=dark] .colab-df-convert:hover {\n",
              "      background-color: #434B5C;\n",
              "      box-shadow: 0px 1px 3px 1px rgba(0, 0, 0, 0.15);\n",
              "      filter: drop-shadow(0px 1px 2px rgba(0, 0, 0, 0.3));\n",
              "      fill: #FFFFFF;\n",
              "    }\n",
              "  </style>\n",
              "\n",
              "      <script>\n",
              "        const buttonEl =\n",
              "          document.querySelector('#df-3b5d49ab-5179-472f-ba08-ff0a0d900962 button.colab-df-convert');\n",
              "        buttonEl.style.display =\n",
              "          google.colab.kernel.accessAllowed ? 'block' : 'none';\n",
              "\n",
              "        async function convertToInteractive(key) {\n",
              "          const element = document.querySelector('#df-3b5d49ab-5179-472f-ba08-ff0a0d900962');\n",
              "          const dataTable =\n",
              "            await google.colab.kernel.invokeFunction('convertToInteractive',\n",
              "                                                     [key], {});\n",
              "          if (!dataTable) return;\n",
              "\n",
              "          const docLinkHtml = 'Like what you see? Visit the ' +\n",
              "            '<a target=\"_blank\" href=https://colab.research.google.com/notebooks/data_table.ipynb>data table notebook</a>'\n",
              "            + ' to learn more about interactive tables.';\n",
              "          element.innerHTML = '';\n",
              "          dataTable['output_type'] = 'display_data';\n",
              "          await google.colab.output.renderOutput(dataTable, element);\n",
              "          const docLink = document.createElement('div');\n",
              "          docLink.innerHTML = docLinkHtml;\n",
              "          element.appendChild(docLink);\n",
              "        }\n",
              "      </script>\n",
              "    </div>\n",
              "  </div>\n",
              "  "
            ]
          },
          "metadata": {},
          "execution_count": 19
        }
      ]
    },
    {
      "cell_type": "code",
      "source": [
        "# Генератори (ті що відправлені без потреби, в розрізі областей)\n",
        "df = pd.read_excel('/content/drive/MyDrive/energy-map/public/aid/aid.xlsx', sheet_name=\"Відгрузки\", engine='openpyxl')\n",
        "# В df залишимо лише ті рядки в яких в стовбчику \"ID Позиції\" значення або \"PT100001\" або порожнє значення\n",
        "df = df[(df['ID Позиції'] == 'PT100001') | (df['ID Позиції'].isnull())]\n",
        "#Залишимо в df лише ті рядки, де в стовбці \"Зона бойових дій\" значення не дорівнює \"-1\"\n",
        "df = df[df['Зона бойових дій'] != -1]\n",
        "# Залишимо в df лише ті рядки, де в стовбці \"Тип потреби\" значення рівне \"Електростанції (генератори) та обладнання\", і в стовбчику \"Вид потреби\" значення рівне \"Газотурбінні установки\"\n",
        "df = df[(df['Тип потреби'] == 'Електростанції (генератори) та обладнання') | (df['Вид потреби'] == 'Газотурбінні установки')]\n",
        "# Видалимо рядки де в стовбчику \"Вид потреби\" значення \"Генератори (запчастини, сервісні, ремонтні комплекти, інше)\"\n",
        "df = df[df['Вид потреби'] != 'Генератори (запчастини, сервісні, ремонтні комплекти, інше)']\n",
        "# Залишимо в df лише такі стовбці\n",
        "df = df[['Область', 'Обсяг']]\n",
        "# Згрупуємо дані за стовбцем\n",
        "df = df.groupby(['Область']).sum()\n",
        "\n",
        "# Відсортуємо df по стовбцю\n",
        "df = df.sort_values(by='Обсяг', ascending=False)\n",
        "\n",
        "# Додамо до вже існуючого файлу\n",
        "with pd.ExcelWriter('/content/drive/MyDrive/energy-map/public/aid/temp.xlsx', mode='a') as writer:\n",
        "    df.to_excel(writer, sheet_name='Генератори_відгрузки2')"
      ],
      "metadata": {
        "id": "_g_su6OFo8L-"
      },
      "execution_count": null,
      "outputs": []
    },
    {
      "cell_type": "code",
      "source": [
        "# Генератори (пріоритетні потреби, за потужністю)\n",
        "df = pd.read_excel('/content/drive/MyDrive/energy-map/public/aid/пріоритетні потреби.xlsx', sheet_name='Лише потрібні категорії', engine='openpyxl')\n",
        "# Залишимо в df лише ті рядки, де в стовбці \"Тип потреби\" значення рівне \"Електростанції (генератори) та обладнання\", і в стовбчику \"Вид потреби\" значення рівне \"Газотурбінні установки\"\n",
        "df = df[(df['Тип потреби'] == 'Електростанції (генератори) та обладнання') | (df['Вид потреби'] == 'Газотурбінні установки')]\n",
        "# Залишимо в df лише такі стовбці\n",
        "df = df[['Вид потреби', 'Загальний обсяг 1 пріоритет', 'Загальний обсяг 2 пріоритет']]\n",
        "# Згрупуємо дані за стовбцями\n",
        "df = df.groupby('Вид потреби', as_index=False).sum()\n",
        "# Щоб результат був відсортований в потрібному порядку (генератори за потужністю а потім газотурбінні установки), напишемо такий словник\n",
        "names = {\"Генератор <10 кВт\": 1, \"Генератор 10-30 кВт\": 2, \"Генератор 30-100 кВт\": 3, \"Генератор 100-300 кВт\": 4, \"Генератор 300-500 кВт\": 5, \"Генератор 500-700 кВт\": 6, \"Генератор 700-1000 кВт\": 7, \"Генератор 1000-1500 кВт\": 8, \"Газотурбінні установки\": 9}\n",
        "# Додамо стовбчик num\n",
        "df['number'] = df['Вид потреби'].map(names)\n",
        "df = df.sort_values(by='number')\n",
        "# Залишимо потрібні стовбчики\n",
        "df = df[['Вид потреби', 'Загальний обсяг 1 пріоритет', 'Загальний обсяг 2 пріоритет']]\n",
        "# Додамо до вже існуючого файлу result.xlsx вкладку із даними df (ігноруючи індекси)\n",
        "with pd.ExcelWriter('/content/drive/MyDrive/energy-map/public/aid/temp.xlsx', mode='a') as writer:\n",
        "    df.to_excel(writer, sheet_name='Пріор_Генератори')"
      ],
      "metadata": {
        "id": "tT_FCLBFa854"
      },
      "execution_count": null,
      "outputs": []
    },
    {
      "cell_type": "code",
      "source": [
        "# -- Задоволення потреб і кількість потреб (всі типи потреб)\n",
        "df = pd.read_excel('/content/drive/MyDrive/energy-map/public/aid/aid.xlsx', engine='openpyxl')\n",
        "#Залишимо в df лише ті рядки, де в стовбці \"Зона бойових дій\" значення не дорівнює \"-1\"\n",
        "df = df[df['Зона бойових дій'] != -1]\n",
        "# #Залишимо в df лише ті рядки, де в стовбці \"Зона бойових дій\" значення не порожнє\n",
        "# df = df[df['Зона бойових дій'].notna()]\n",
        "df['Забезпечено загалом'] = df['Загальний обсяг'] - df['Незабезпечена потреба, абс. знач']\n",
        "# Залишимо в df лише такі стовбці\n",
        "df = df[['Тип потреби', 'Вид потреби', 'Виконання, %']]\n",
        "# Згрупуємо дані за стовбцем\n",
        "df = df.groupby(['Тип потреби', 'Вид потреби']).mean()\n",
        "\n",
        "# Додамо до вже існуючого файлу result.xlsx вкладку із даними df (ігноруючи індекси)\n",
        "with pd.ExcelWriter('/content/drive/MyDrive/energy-map/public/aid/temp.xlsx', mode='a') as writer:\n",
        "    df.to_excel(writer, sheet_name='Common1')"
      ],
      "metadata": {
        "colab": {
          "base_uri": "https://localhost:8080/"
        },
        "id": "1kbIrOUlr3sz",
        "outputId": "216f5da6-3587-490c-f297-4906e3532e05"
      },
      "execution_count": null,
      "outputs": [
        {
          "output_type": "stream",
          "name": "stderr",
          "text": [
            "/usr/local/lib/python3.10/dist-packages/openpyxl/worksheet/_reader.py:312: UserWarning: Unknown extension is not supported and will be removed\n",
            "  warn(msg)\n",
            "<ipython-input-16-e3fb2d34f899>:8: FutureWarning: The default value of numeric_only in DataFrameGroupBy.mean is deprecated. In a future version, numeric_only will default to False. Either specify numeric_only or select only columns which should be valid for the function.\n",
            "  df = df.groupby(['Тип потреби', 'Вид потреби']).mean()\n"
          ]
        }
      ]
    },
    {
      "cell_type": "code",
      "source": [
        "# -- Оливи трансформаторні (а розрізі категорій)\n",
        "df = pd.read_excel('/content/drive/MyDrive/energy-map/public/aid/aid.xlsx', engine='openpyxl')\n",
        "#Залишимо в df лише ті рядки, де в стовбці \"Зона бойових дій\" значення не дорівнює \"-1\"\n",
        "df = df[df['Зона бойових дій'] != -1]\n",
        "# #Залишимо в df лише ті рядки, де в стовбці \"Зона бойових дій\" значення не порожнє\n",
        "# df = df[df['Зона бойових дій'].notna()]\n",
        "df['Забезпечено загалом'] = df['Загальний обсяг'] - df['Незабезпечена потреба, абс. знач']\n",
        "# Залишимо в df лише ті рядки, де в стовбці \"Тип потреби\" значення рівне \"Електростанції (генератори) та обладнання\"\n",
        "df = df[df['Вид потреби'] == 'Оливи трансформаторні']\n",
        "# Залишимо в df лише такі стовбці\n",
        "df = df[['Вид потреби', 'Загальний обсяг', 'Забезпечено загалом', 'Незабезпечена потреба, абс. знач']]\n",
        "# Згрупуємо дані за стовбцем\n",
        "df = df.groupby(['Вид потреби']).sum()\n",
        "# Відсортуємо df по стовбцю 'Загальний обсяг' (від найбільшого до найменшого)\n",
        "df = df.sort_values(by='Загальний обсяг', ascending=False)\n",
        "# Додамо до вже існуючого файлу result.xlsx вкладку із даними df (ігноруючи індекси)\n",
        "with pd.ExcelWriter('/content/drive/MyDrive/energy-map/public/aid/temp.xlsx', mode='a') as writer:\n",
        "    df.to_excel(writer, sheet_name='Оливи транс.01')"
      ],
      "metadata": {
        "id": "8rRXGKpOyx2W",
        "colab": {
          "base_uri": "https://localhost:8080/"
        },
        "outputId": "9d45b25f-8e21-4109-bf63-a17844dceb81"
      },
      "execution_count": null,
      "outputs": [
        {
          "output_type": "stream",
          "name": "stderr",
          "text": [
            "Exception ignored in: <function ZipFile.__del__ at 0x7fa9d240add0>\n",
            "Traceback (most recent call last):\n",
            "  File \"/usr/lib/python3.10/zipfile.py\", line 1821, in __del__\n",
            "    self.close()\n",
            "  File \"/usr/lib/python3.10/zipfile.py\", line 1838, in close\n",
            "    self.fp.seek(self.start_dir)\n",
            "ValueError: seek of closed file\n"
          ]
        }
      ]
    },
    {
      "cell_type": "code",
      "source": [
        "# -- Оливи трансформаторні (а розрізі областей)\n",
        "df = pd.read_excel('/content/drive/MyDrive/energy-map/public/aid/aid.xlsx', engine='openpyxl')\n",
        "#Залишимо в df лише ті рядки, де в стовбці \"Зона бойових дій\" значення не дорівнює \"-1\"\n",
        "df = df[df['Зона бойових дій'] != -1]\n",
        "# #Залишимо в df лише ті рядки, де в стовбці \"Зона бойових дій\" значення не порожнє\n",
        "# df = df[df['Зона бойових дій'].notna()]\n",
        "df['Забезпечено загалом'] = df['Загальний обсяг'] - df['Незабезпечена потреба, абс. знач']\n",
        "# Залишимо в df лише ті рядки, де в стовбці \"Тип потреби\" значення рівне \"Електростанції (генератори) та обладнання\"\n",
        "df = df[df['Вид потреби'] == 'Оливи трансформаторні']\n",
        "# Залишимо в df лише такі стовбці\n",
        "df = df[['Область', 'Загальний обсяг', 'Забезпечено загалом', 'Незабезпечена потреба, абс. знач']]\n",
        "# Згрупуємо дані за стовбцем\n",
        "df = df.groupby(['Область']).sum()\n",
        "# Відсортуємо df по стовбцю 'Загальний обсяг' (від найбільшого до найменшого)\n",
        "df = df.sort_values(by='Загальний обсяг', ascending=False)\n",
        "# Додамо до вже існуючого файлу result.xlsx вкладку із даними df (ігноруючи індекси)\n",
        "with pd.ExcelWriter('/content/drive/MyDrive/energy-map/public/aid/temp.xlsx', mode='a') as writer:\n",
        "    df.to_excel(writer, sheet_name='Оливи транс.02')"
      ],
      "metadata": {
        "id": "f49cGPPwuBsq"
      },
      "execution_count": null,
      "outputs": []
    },
    {
      "cell_type": "code",
      "source": [
        "# -- Оливи трансформаторні (ТОП5 компаній з позначенням області)\n",
        "df = pd.read_excel('/content/drive/MyDrive/energy-map/public/aid/aid.xlsx', engine='openpyxl')\n",
        "#Залишимо в df лише ті рядки, де в стовбці \"Зона бойових дій\" значення не дорівнює \"-1\"\n",
        "df = df[df['Зона бойових дій'] != -1]\n",
        "# #Залишимо в df лише ті рядки, де в стовбці \"Зона бойових дій\" значення не порожнє\n",
        "# df = df[df['Зона бойових дій'].notna()]\n",
        "df['Забезпечено загалом'] = df['Загальний обсяг'] - df['Незабезпечена потреба, абс. знач']\n",
        "df = df[df['Вид потреби'] == 'Оливи трансформаторні']\n",
        "# Залишимо в df лише такі стовбці\n",
        "df = df[['Назва  Набувача', 'Область', 'Загальний обсяг', 'Незабезпечена потреба, абс. знач']]\n",
        "# Згрупуємо дані за стовбцем\n",
        "df = df.groupby(['Назва  Набувача', 'Область']).sum()\n",
        "# Відсортуємо df по стовбцю 'Загальний обсяг' (від найбільшого до найменшого)\n",
        "df = df.sort_values(by='Загальний обсяг', ascending=False)\n",
        "# Залишимо лише 5 перших рядків\n",
        "df = df.head(5)\n",
        "# Додамо до вже існуючого файлу result.xlsx вкладку із даними df (ігноруючи індекси)\n",
        "with pd.ExcelWriter('/content/drive/MyDrive/energy-map/public/aid/temp.xlsx', mode='a') as writer:\n",
        "    df.to_excel(writer, sheet_name='Оливи транс.03')"
      ],
      "metadata": {
        "id": "0tmEsfD8kHcs"
      },
      "execution_count": null,
      "outputs": []
    },
    {
      "cell_type": "code",
      "source": [
        "# -- Оливи трансформаторні (ТОП5 невдах з позначенням області)\n",
        "df = pd.read_excel('/content/drive/MyDrive/energy-map/public/aid/aid.xlsx', engine='openpyxl')\n",
        "#Залишимо в df лише ті рядки, де в стовбці \"Зона бойових дій\" значення не дорівнює \"-1\"\n",
        "df = df[df['Зона бойових дій'] != -1]\n",
        "# #Залишимо в df лише ті рядки, де в стовбці \"Зона бойових дій\" значення не порожнє\n",
        "# df = df[df['Зона бойових дій'].notna()]\n",
        "df['Забезпечено загалом'] = df['Загальний обсяг'] - df['Незабезпечена потреба, абс. знач']\n",
        "df = df[df['Вид потреби'] == 'Оливи трансформаторні']\n",
        "# Залишимо в df лише такі стовбці\n",
        "df = df[['Назва  Набувача', 'Область', 'Загальний обсяг', 'Незабезпечена потреба, абс. знач']]\n",
        "# Згрупуємо дані за стовбцем\n",
        "df = df.groupby(['Назва  Набувача', 'Область']).sum()\n",
        "# Відсортуємо df по стовбцю 'Загальний обсяг' (від найбільшого до найменшого)\n",
        "df = df.sort_values(by='Незабезпечена потреба, абс. знач', ascending=False)\n",
        "# Залишимо лише 5 перших рядків\n",
        "df = df.head(5)\n",
        "# Додамо до вже існуючого файлу result.xlsx вкладку із даними df (ігноруючи індекси)\n",
        "with pd.ExcelWriter('/content/drive/MyDrive/energy-map/public/aid/temp.xlsx', mode='a') as writer:\n",
        "    df.to_excel(writer, sheet_name='Оливи транс.04')"
      ],
      "metadata": {
        "id": "D2bQfz1_exkK"
      },
      "execution_count": null,
      "outputs": []
    },
    {
      "cell_type": "code",
      "source": [
        "# Оливи трансформаторні (ті що відправлені без потреби, в розрізі категорії)\n",
        "df = pd.read_excel('/content/drive/MyDrive/energy-map/public/aid/aid.xlsx', sheet_name=\"Відгрузки\", engine='openpyxl')\n",
        "# В df залишимо лише ті рядки в яких в стовбчику \"ID Позиції\" значення або \"PT100001\" або порожнє значення\n",
        "df = df[(df['ID Позиції'] == 'PT100001') | (df['ID Позиції'].isnull())]\n",
        "#Залишимо в df лише ті рядки, де в стовбці \"Зона бойових дій\" значення не дорівнює \"-1\"\n",
        "df = df[df['Зона бойових дій'] != -1]\n",
        "# Залишимо в df лише ті рядки, де в стовбці \"Тип потреби\" значення рівне \"Електростанції (генератори) та обладнання\", і в стовбчику \"Вид потреби\" значення рівне \"Газотурбінні установки\"\n",
        "df = df[(df['Вид потреби'] == 'Оливи трансформаторні')]\n",
        "# Залишимо в df лише такі стовбці\n",
        "df = df[['Вид потреби', 'Обсяг']]\n",
        "# Згрупуємо дані за стовбцем\n",
        "df = df.groupby(['Вид потреби']).sum()\n",
        "\n",
        "# Відсортуємо df по стовбцю\n",
        "# df = df.sort_values(by='Обсяг', ascending=False)\n",
        "\n",
        "# Додамо до вже існуючого файлу\n",
        "with pd.ExcelWriter('/content/drive/MyDrive/energy-map/public/aid/temp.xlsx', mode='a') as writer:\n",
        "    df.to_excel(writer, sheet_name='Оливи_відгрузки01')"
      ],
      "metadata": {
        "id": "pA0WDYfGokFL"
      },
      "execution_count": null,
      "outputs": []
    },
    {
      "cell_type": "code",
      "source": [
        "# Оливи трансформаторні (ті що відправлені без потреби, в розрізі областей)\n",
        "df = pd.read_excel('/content/drive/MyDrive/energy-map/public/aid/aid.xlsx', sheet_name=\"Відгрузки\", engine='openpyxl')\n",
        "# В df залишимо лише ті рядки в яких в стовбчику \"ID Позиції\" значення або \"PT100001\" або порожнє значення\n",
        "df = df[(df['ID Позиції'] == 'PT100001') | (df['ID Позиції'].isnull())]\n",
        "#Залишимо в df лише ті рядки, де в стовбці \"Зона бойових дій\" значення не дорівнює \"-1\"\n",
        "df = df[df['Зона бойових дій'] != -1]\n",
        "# Залишимо в df лише ті рядки, де в стовбці \"Тип потреби\" значення рівне \"Електростанції (генератори) та обладнання\", і в стовбчику \"Вид потреби\" значення рівне \"Газотурбінні установки\"\n",
        "df = df[(df['Вид потреби'] == 'Оливи трансформаторні')]\n",
        "# Залишимо в df лише такі стовбці\n",
        "df = df[['Область', 'Обсяг']]\n",
        "# Згрупуємо дані за стовбцем\n",
        "df = df.groupby(['Область']).sum()\n",
        "\n",
        "# Відсортуємо df по стовбцю\n",
        "# df = df.sort_values(by='Обсяг', ascending=False)\n",
        "\n",
        "# Додамо до вже існуючого файлу\n",
        "with pd.ExcelWriter('/content/drive/MyDrive/energy-map/public/aid/temp.xlsx', mode='a') as writer:\n",
        "    df.to_excel(writer, sheet_name='Оливи_відгрузки02')"
      ],
      "metadata": {
        "id": "smQo_8JypR25"
      },
      "execution_count": null,
      "outputs": []
    },
    {
      "cell_type": "code",
      "source": [
        "# Оливи (пріоритетні потреби, за категорією)\n",
        "df = pd.read_excel('/content/drive/MyDrive/energy-map/public/aid/пріоритетні потреби.xlsx', sheet_name='Лише потрібні категорії', engine='openpyxl')\n",
        "# Залишимо в df лише ті рядки, де в стовбці \"Тип потреби\" значення рівне \"Електростанції (генератори) та обладнання\", і в стовбчику \"Вид потреби\" значення рівне \"Газотурбінні установки\"\n",
        "df = df[(df['Вид потреби'] == 'Оливи трансформаторні')]\n",
        "# Залишимо в df лише такі стовбці\n",
        "df = df[['Вид потреби', 'Загальний обсяг 1 пріоритет', 'Загальний обсяг 2 пріоритет']]\n",
        "# Згрупуємо дані за стовбцями\n",
        "df = df.groupby('Вид потреби').sum()\n",
        "# Додамо до вже існуючого файлу result.xlsx вкладку із даними df (ігноруючи індекси)\n",
        "with pd.ExcelWriter('/content/drive/MyDrive/energy-map/public/aid/temp.xlsx', mode='a') as writer:\n",
        "    df.to_excel(writer, sheet_name='Пріор_Оливи01')"
      ],
      "metadata": {
        "id": "5JSf-l_3p-f1"
      },
      "execution_count": null,
      "outputs": []
    },
    {
      "cell_type": "code",
      "source": [
        "# -- Опори ліній електропередач (а розрізі категоій)\n",
        "df = pd.read_excel('/content/drive/MyDrive/energy-map/public/aid/aid.xlsx', engine='openpyxl')\n",
        "#Залишимо в df лише ті рядки, де в стовбці \"Зона бойових дій\" значення не дорівнює \"-1\"\n",
        "df = df[df['Зона бойових дій'] != -1]\n",
        "# #Залишимо в df лише ті рядки, де в стовбці \"Зона бойових дій\" значення не порожнє\n",
        "# df = df[df['Зона бойових дій'].notna()]\n",
        "df['Забезпечено загалом'] = df['Загальний обсяг'] - df['Незабезпечена потреба, абс. знач']\n",
        "# Залишимо в df лише ті рядки, де в стовбці \"Вид потреби\" значення рівні або \"Опори залізобетонні\", або \"Опори металеві\", або \"Опори інші\"\n",
        "df = df[df['Вид потреби'].isin(['Опори залізобетонні', 'Опори металеві'])]\n",
        "# Залишимо в df лише такі стовбці\n",
        "df = df[['Вид потреби', 'Загальний обсяг', 'Забезпечено загалом', 'Незабезпечена потреба, абс. знач']]\n",
        "# Згрупуємо дані за стовбцем\n",
        "df = df.groupby(['Вид потреби']).sum()\n",
        "# Відсортуємо df по стовбцю 'Загальний обсяг' (від найбільшого до найменшого)\n",
        "df = df.sort_values(by='Загальний обсяг', ascending=False)\n",
        "# Додамо до вже існуючого файлу result.xlsx вкладку із даними df (ігноруючи індекси)\n",
        "with pd.ExcelWriter('/content/drive/MyDrive/energy-map/public/aid/temp.xlsx', mode='a') as writer:\n",
        "    df.to_excel(writer, sheet_name='Опори ЛЕП0')"
      ],
      "metadata": {
        "id": "jsYDs3Xd3NHP"
      },
      "execution_count": null,
      "outputs": []
    },
    {
      "cell_type": "code",
      "source": [
        "# -- Опори ліній електропередач (а розрізі областей)\n",
        "df = pd.read_excel('/content/drive/MyDrive/energy-map/public/aid/aid.xlsx', engine='openpyxl')\n",
        "#Залишимо в df лише ті рядки, де в стовбці \"Зона бойових дій\" значення не дорівнює \"-1\"\n",
        "df = df[df['Зона бойових дій'] != -1]\n",
        "# #Залишимо в df лише ті рядки, де в стовбці \"Зона бойових дій\" значення не порожнє\n",
        "# df = df[df['Зона бойових дій'].notna()]\n",
        "df['Забезпечено загалом'] = df['Загальний обсяг'] - df['Незабезпечена потреба, абс. знач']\n",
        "# Залишимо в df лише ті рядки, де в стовбці \"Вид потреби\" значення рівні або \"Опори залізобетонні\", або \"Опори металеві\", або \"Опори інші\"\n",
        "df = df[df['Вид потреби'].isin(['Опори залізобетонні', 'Опори металеві'])]\n",
        "# Залишимо в df лише такі стовбці\n",
        "df = df[['Область', 'Загальний обсяг', 'Забезпечено загалом', 'Незабезпечена потреба, абс. знач']]\n",
        "# Згрупуємо дані за стовбцем\n",
        "df = df.groupby(['Область']).sum()\n",
        "# Відсортуємо df по стовбцю 'Загальний обсяг' (від найбільшого до найменшого)\n",
        "df = df.sort_values(by='Загальний обсяг', ascending=False)\n",
        "# Додамо до вже існуючого файлу result.xlsx вкладку із даними df (ігноруючи індекси)\n",
        "with pd.ExcelWriter('/content/drive/MyDrive/energy-map/public/aid/temp.xlsx', mode='a') as writer:\n",
        "    df.to_excel(writer, sheet_name='Опори ЛЕП')"
      ],
      "metadata": {
        "id": "3chU1uUU_rJ9"
      },
      "execution_count": null,
      "outputs": []
    },
    {
      "cell_type": "code",
      "source": [
        "# -- Опори ліній електропередач (ТОП5 з областями)\n",
        "df = pd.read_excel('/content/drive/MyDrive/energy-map/public/aid/aid.xlsx', engine='openpyxl')\n",
        "#Залишимо в df лише ті рядки, де в стовбці \"Зона бойових дій\" значення не дорівнює \"-1\"\n",
        "df = df[df['Зона бойових дій'] != -1]\n",
        "# #Залишимо в df лише ті рядки, де в стовбці \"Зона бойових дій\" значення не порожнє\n",
        "# df = df[df['Зона бойових дій'].notna()]\n",
        "df['Забезпечено загалом'] = df['Загальний обсяг'] - df['Незабезпечена потреба, абс. знач']\n",
        "# Залишимо в df лише ті рядки, де в стовбці \"Вид потреби\" значення рівні або \"Опори залізобетонні\", або \"Опори металеві\", або \"Опори інші\"\n",
        "df = df[df['Вид потреби'].isin(['Опори залізобетонні', 'Опори металеві'])]\n",
        "# Залишимо в df лише такі стовбці\n",
        "df = df[['Назва  Набувача', 'Область', 'Загальний обсяг', 'Незабезпечена потреба, абс. знач']]\n",
        "# Згрупуємо дані за стовбцем\n",
        "df = df.groupby(['Назва  Набувача', 'Область']).sum()\n",
        "# Відсортуємо df по стовбцю 'Загальний обсяг' (від найбільшого до найменшого)\n",
        "df = df.sort_values(by='Загальний обсяг', ascending=False)\n",
        "# Залишимо лише 5 перших рядків\n",
        "df = df.head(5)\n",
        "# Додамо до вже існуючого файлу result.xlsx вкладку із даними df (ігноруючи індекси)\n",
        "with pd.ExcelWriter('/content/drive/MyDrive/energy-map/public/aid/temp.xlsx', mode='a') as writer:\n",
        "    df.to_excel(writer, sheet_name='Опори ЛЕП_1')"
      ],
      "metadata": {
        "id": "5D0KsgKg4nXv"
      },
      "execution_count": null,
      "outputs": []
    },
    {
      "cell_type": "code",
      "source": [
        "# -- Опори ліній електропередач (ТОП5 невдах з областями)\n",
        "df = pd.read_excel('/content/drive/MyDrive/energy-map/public/aid/aid.xlsx', engine='openpyxl')\n",
        "#Залишимо в df лише ті рядки, де в стовбці \"Зона бойових дій\" значення не дорівнює \"-1\"\n",
        "df = df[df['Зона бойових дій'] != -1]\n",
        "# #Залишимо в df лише ті рядки, де в стовбці \"Зона бойових дій\" значення не порожнє\n",
        "# df = df[df['Зона бойових дій'].notna()]\n",
        "df['Забезпечено загалом'] = df['Загальний обсяг'] - df['Незабезпечена потреба, абс. знач']\n",
        "# Залишимо в df лише ті рядки, де в стовбці \"Вид потреби\" значення рівні або \"Опори залізобетонні\", або \"Опори металеві\", або \"Опори інші\"\n",
        "df = df[df['Вид потреби'].isin(['Опори залізобетонні', 'Опори металеві'])]\n",
        "# Залишимо в df лише такі стовбці\n",
        "df = df[['Назва  Набувача', 'Область', 'Загальний обсяг', 'Незабезпечена потреба, абс. знач']]\n",
        "# Згрупуємо дані за стовбцем\n",
        "df = df.groupby(['Назва  Набувача', 'Область']).sum()\n",
        "# Відсортуємо df по стовбцю 'Загальний обсяг' (від найбільшого до найменшого)\n",
        "df = df.sort_values(by='Незабезпечена потреба, абс. знач', ascending=False)\n",
        "# Залишимо лише 5 перших рядків\n",
        "df = df.head(5)\n",
        "# Додамо до вже існуючого файлу result.xlsx вкладку із даними df (ігноруючи індекси)\n",
        "with pd.ExcelWriter('/content/drive/MyDrive/energy-map/public/aid/temp.xlsx', mode='a') as writer:\n",
        "    df.to_excel(writer, sheet_name='Опори ЛЕП_3')"
      ],
      "metadata": {
        "id": "zRWtSrpnfKXC"
      },
      "execution_count": null,
      "outputs": []
    },
    {
      "cell_type": "code",
      "source": [
        "# Опори ЛЕП (ті що відправлені без потреби, в розрізі категорії)\n",
        "df = pd.read_excel('/content/drive/MyDrive/energy-map/public/aid/aid.xlsx', sheet_name=\"Відгрузки\", engine='openpyxl')\n",
        "# В df залишимо лише ті рядки в яких в стовбчику \"ID Позиції\" значення або \"PT100001\" або порожнє значення\n",
        "df = df[(df['ID Позиції'] == 'PT100001') | (df['ID Позиції'].isnull())]\n",
        "#Залишимо в df лише ті рядки, де в стовбці \"Зона бойових дій\" значення не дорівнює \"-1\"\n",
        "df = df[df['Зона бойових дій'] != -1]\n",
        "# Залишимо в df лише ті рядки\n",
        "df = df[df['Вид потреби'].isin(['Опори залізобетонні', 'Опори металеві'])]\n",
        "# Залишимо в df лише такі стовбці\n",
        "df = df[['Вид потреби', 'Обсяг']]\n",
        "# Згрупуємо дані за стовбцем\n",
        "df = df.groupby(['Вид потреби']).sum()\n",
        "\n",
        "# Відсортуємо df по стовбцю\n",
        "# df = df.sort_values(by='Обсяг', ascending=False)\n",
        "\n",
        "# Додамо до вже існуючого файлу\n",
        "with pd.ExcelWriter('/content/drive/MyDrive/energy-map/public/aid/temp.xlsx', mode='a') as writer:\n",
        "    df.to_excel(writer, sheet_name='ЛЕП_відгрузки01')"
      ],
      "metadata": {
        "id": "6sVkQ63N8jZD"
      },
      "execution_count": null,
      "outputs": []
    },
    {
      "cell_type": "code",
      "source": [
        "# Опори ЛЕП (ті що відправлені без потреби, в розрізі областей)\n",
        "df = pd.read_excel('/content/drive/MyDrive/energy-map/public/aid/aid.xlsx', sheet_name=\"Відгрузки\", engine='openpyxl')\n",
        "# В df залишимо лише ті рядки в яких в стовбчику \"ID Позиції\" значення або \"PT100001\" або порожнє значення\n",
        "df = df[(df['ID Позиції'] == 'PT100001') | (df['ID Позиції'].isnull())]\n",
        "#Залишимо в df лише ті рядки, де в стовбці \"Зона бойових дій\" значення не дорівнює \"-1\"\n",
        "df = df[df['Зона бойових дій'] != -1]\n",
        "# Залишимо в df лише ті рядки\n",
        "df = df[df['Вид потреби'].isin(['Опори залізобетонні', 'Опори металеві'])]\n",
        "# Залишимо в df лише такі стовбці\n",
        "df = df[['Область', 'Обсяг']]\n",
        "# Згрупуємо дані за стовбцем\n",
        "df = df.groupby(['Область']).sum()\n",
        "\n",
        "# Відсортуємо df по стовбцю\n",
        "# df = df.sort_values(by='Обсяг', ascending=False)\n",
        "\n",
        "# Додамо до вже існуючого файлу\n",
        "with pd.ExcelWriter('/content/drive/MyDrive/energy-map/public/aid/temp.xlsx', mode='a') as writer:\n",
        "    df.to_excel(writer, sheet_name='ЛЕП_відгрузки02')"
      ],
      "metadata": {
        "id": "cvycbX-F82sz"
      },
      "execution_count": null,
      "outputs": []
    },
    {
      "cell_type": "code",
      "source": [
        "# Опори ЛЕП (пріоритетні потреби, за категорією)\n",
        "df = pd.read_excel('/content/drive/MyDrive/energy-map/public/aid/пріоритетні потреби.xlsx', sheet_name='Лише потрібні категорії', engine='openpyxl')\n",
        "# Залишимо в df лише ті рядки,\n",
        "df = df[df['Вид потреби'].isin(['Опори залізобетонні', 'Опори металеві'])]\n",
        "# Залишимо в df лише такі стовбці\n",
        "df = df[['Вид потреби', 'Загальний обсяг 1 пріоритет', 'Загальний обсяг 2 пріоритет']]\n",
        "# Згрупуємо дані за стовбцями\n",
        "df = df.groupby('Вид потреби').sum()\n",
        "# Додамо до вже існуючого файлу result.xlsx вкладку із даними df (ігноруючи індекси)\n",
        "with pd.ExcelWriter('/content/drive/MyDrive/energy-map/public/aid/temp.xlsx', mode='a') as writer:\n",
        "    df.to_excel(writer, sheet_name='Пріор_ЛЕП')"
      ],
      "metadata": {
        "id": "XWnUDsj59BhB"
      },
      "execution_count": null,
      "outputs": []
    },
    {
      "cell_type": "code",
      "source": [
        "# -- Вимикачі (в розрізі категорій)\n",
        "df = pd.read_excel('/content/drive/MyDrive/energy-map/public/aid/aid.xlsx', engine='openpyxl')\n",
        "#Залишимо в df лише ті рядки, де в стовбці \"Зона бойових дій\" значення не дорівнює \"-1\"\n",
        "df = df[df['Зона бойових дій'] != -1]\n",
        "# #Залишимо в df лише ті рядки, де в стовбці \"Зона бойових дій\" значення не порожнє\n",
        "# df = df[df['Зона бойових дій'].notna()]\n",
        "df['Забезпечено загалом'] = df['Загальний обсяг'] - df['Незабезпечена потреба, абс. знач']\n",
        "# Залишимо в df лише ті рядки, де в стовбці \"Вид потреби\" значення рівні такому:\n",
        "df = df[df['Вид потреби'].isin(['Вимикачі вакуумні', 'Вимикачі елегазові'])]\n",
        "# Залишимо в df лише такі стовбці\n",
        "df = df[['Вид потреби', 'Загальний обсяг', 'Забезпечено загалом', 'Незабезпечена потреба, абс. знач']]\n",
        "# Згрупуємо дані за стовбцем\n",
        "df = df.groupby(['Вид потреби']).sum()\n",
        "# Відсортуємо df по стовбцю 'Загальний обсяг' (від найбільшого до найменшого)\n",
        "df = df.sort_values(by='Загальний обсяг', ascending=False)\n",
        "# Додамо до вже існуючого файлу result.xlsx вкладку із даними df (ігноруючи індекси)\n",
        "with pd.ExcelWriter('/content/drive/MyDrive/energy-map/public/aid/temp.xlsx', mode='a') as writer:\n",
        "    df.to_excel(writer, sheet_name='Вимикачі')"
      ],
      "metadata": {
        "id": "B3IUQ-83TQVu"
      },
      "execution_count": null,
      "outputs": []
    },
    {
      "cell_type": "code",
      "source": [
        "# -- Вимикачі (в розрізі областей)\n",
        "df = pd.read_excel('/content/drive/MyDrive/energy-map/public/aid/aid.xlsx', engine='openpyxl')\n",
        "#Залишимо в df лише ті рядки, де в стовбці \"Зона бойових дій\" значення не дорівнює \"-1\"\n",
        "df = df[df['Зона бойових дій'] != -1]\n",
        "# #Залишимо в df лише ті рядки, де в стовбці \"Зона бойових дій\" значення не порожнє\n",
        "# df = df[df['Зона бойових дій'].notna()]\n",
        "df['Забезпечено загалом'] = df['Загальний обсяг'] - df['Незабезпечена потреба, абс. знач']\n",
        "# Залишимо в df лише ті рядки, де в стовбці \"Вид потреби\" значення рівні такому:\n",
        "df = df[df['Вид потреби'].isin(['Вимикачі вакуумні', 'Вимикачі елегазові'])]\n",
        "# Залишимо в df лише такі стовбці\n",
        "df = df[['Область', 'Загальний обсяг', 'Забезпечено загалом', 'Незабезпечена потреба, абс. знач']]\n",
        "# Згрупуємо дані за стовбцем\n",
        "df = df.groupby(['Область']).sum()\n",
        "# Відсортуємо df по стовбцю 'Загальний обсяг' (від найбільшого до найменшого)\n",
        "df = df.sort_values(by='Загальний обсяг', ascending=False)\n",
        "# Додамо до вже існуючого файлу result.xlsx вкладку із даними df (ігноруючи індекси)\n",
        "with pd.ExcelWriter('/content/drive/MyDrive/energy-map/public/aid/temp.xlsx', mode='a') as writer:\n",
        "    df.to_excel(writer, sheet_name='Вимикачі_1')"
      ],
      "metadata": {
        "id": "ksH0VAUZb6nj"
      },
      "execution_count": null,
      "outputs": []
    },
    {
      "cell_type": "code",
      "source": [
        "# -- Вимикачі (ТОП3 з областями)\n",
        "df = pd.read_excel('/content/drive/MyDrive/energy-map/public/aid/aid.xlsx', engine='openpyxl')\n",
        "#Залишимо в df лише ті рядки, де в стовбці \"Зона бойових дій\" значення не дорівнює \"-1\"\n",
        "df = df[df['Зона бойових дій'] != -1]\n",
        "# #Залишимо в df лише ті рядки, де в стовбці \"Зона бойових дій\" значення не порожнє\n",
        "# df = df[df['Зона бойових дій'].notna()]\n",
        "df['Забезпечено загалом'] = df['Загальний обсяг'] - df['Незабезпечена потреба, абс. знач']\n",
        "# Залишимо в df лише ті рядки, де в стовбці \"Вид потреби\" значення рівні такому:\n",
        "df = df[df['Вид потреби'].isin(['Вимикачі вакуумні', 'Вимикачі елегазові'])]\n",
        "# Залишимо в df лише такі стовбці\n",
        "df = df[['Назва  Набувача', 'Область', 'Загальний обсяг', 'Незабезпечена потреба, абс. знач']]\n",
        "# Згрупуємо дані за стовбцем\n",
        "df = df.groupby(['Назва  Набувача', 'Область']).sum()\n",
        "# Відсортуємо df по стовбцю 'Загальний обсяг' (від найбільшого до найменшого)\n",
        "df = df.sort_values(by='Загальний обсяг', ascending=False)\n",
        "# Залишимо лише 3 перших рядків\n",
        "df = df.head(3)\n",
        "# Додамо до вже існуючого файлу result.xlsx вкладку із даними df (ігноруючи індекси)\n",
        "with pd.ExcelWriter('/content/drive/MyDrive/energy-map/public/aid/temp.xlsx', mode='a') as writer:\n",
        "    df.to_excel(writer, sheet_name='Вимикачі_2')"
      ],
      "metadata": {
        "id": "CCSicCo5dAmV"
      },
      "execution_count": null,
      "outputs": []
    },
    {
      "cell_type": "code",
      "source": [
        "# -- Вимикачі (ТОП3 невдах з областями)\n",
        "df = pd.read_excel('/content/drive/MyDrive/energy-map/public/aid/aid.xlsx', engine='openpyxl')\n",
        "#Залишимо в df лише ті рядки, де в стовбці \"Зона бойових дій\" значення не дорівнює \"-1\"\n",
        "df = df[df['Зона бойових дій'] != -1]\n",
        "# #Залишимо в df лише ті рядки, де в стовбці \"Зона бойових дій\" значення не порожнє\n",
        "# df = df[df['Зона бойових дій'].notna()]\n",
        "df['Забезпечено загалом'] = df['Загальний обсяг'] - df['Незабезпечена потреба, абс. знач']\n",
        "# Залишимо в df лише ті рядки, де в стовбці \"Вид потреби\" значення рівні такому:\n",
        "df = df[df['Вид потреби'].isin(['Вимикачі вакуумні', 'Вимикачі елегазові'])]\n",
        "# Залишимо в df лише такі стовбці\n",
        "df = df[['Назва  Набувача', 'Область', 'Загальний обсяг', 'Незабезпечена потреба, абс. знач']]\n",
        "# Згрупуємо дані за стовбцем\n",
        "df = df.groupby(['Назва  Набувача', 'Область']).sum()\n",
        "# Відсортуємо df по стовбцю 'Загальний обсяг' (від найбільшого до найменшого)\n",
        "df = df.sort_values(by='Незабезпечена потреба, абс. знач', ascending=False)\n",
        "# Залишимо лише 3 перших рядків\n",
        "df = df.head(3)\n",
        "# Додамо до вже існуючого файлу result.xlsx вкладку із даними df (ігноруючи індекси)\n",
        "with pd.ExcelWriter('/content/drive/MyDrive/energy-map/public/aid/temp.xlsx', mode='a') as writer:\n",
        "    df.to_excel(writer, sheet_name='Вимикачі_3_1')"
      ],
      "metadata": {
        "id": "Dab291atf4EF"
      },
      "execution_count": null,
      "outputs": []
    },
    {
      "cell_type": "code",
      "source": [
        "# Вимикачі (ті що відправлені без потреби, в розрізі категорії)\n",
        "df = pd.read_excel('/content/drive/MyDrive/energy-map/public/aid/aid.xlsx', sheet_name=\"Відгрузки\", engine='openpyxl')\n",
        "# В df залишимо лише ті рядки в яких в стовбчику \"ID Позиції\" значення або \"PT100001\" або порожнє значення\n",
        "df = df[(df['ID Позиції'] == 'PT100001') | (df['ID Позиції'].isnull())]\n",
        "#Залишимо в df лише ті рядки, де в стовбці \"Зона бойових дій\" значення не дорівнює \"-1\"\n",
        "df = df[df['Зона бойових дій'] != -1]\n",
        "# Залишимо в df лише ті рядки\n",
        "df = df[df['Вид потреби'].isin(['Вимикачі вакуумні', 'Вимикачі елегазові'])]\n",
        "# Залишимо в df лише такі стовбці\n",
        "df = df[['Вид потреби', 'Обсяг']]\n",
        "# Згрупуємо дані за стовбцем\n",
        "df = df.groupby(['Вид потреби']).sum()\n",
        "\n",
        "# Відсортуємо df по стовбцю\n",
        "# df = df.sort_values(by='Обсяг', ascending=False)\n",
        "\n",
        "# Додамо до вже існуючого файлу\n",
        "with pd.ExcelWriter('/content/drive/MyDrive/energy-map/public/aid/temp.xlsx', mode='a') as writer:\n",
        "    df.to_excel(writer, sheet_name='Вимикачі_відгрузки01')"
      ],
      "metadata": {
        "id": "HDIaSnmx4dRV"
      },
      "execution_count": null,
      "outputs": []
    },
    {
      "cell_type": "code",
      "source": [
        "# Вимикачі (ті що відправлені без потреби, в розрізі областей)\n",
        "df = pd.read_excel('/content/drive/MyDrive/energy-map/public/aid/aid.xlsx', sheet_name=\"Відгрузки\", engine='openpyxl')\n",
        "# В df залишимо лише ті рядки в яких в стовбчику \"ID Позиції\" значення або \"PT100001\" або порожнє значення\n",
        "df = df[(df['ID Позиції'] == 'PT100001') | (df['ID Позиції'].isnull())]\n",
        "#Залишимо в df лише ті рядки, де в стовбці \"Зона бойових дій\" значення не дорівнює \"-1\"\n",
        "df = df[df['Зона бойових дій'] != -1]\n",
        "# Залишимо в df лише ті рядки\n",
        "df = df[df['Вид потреби'].isin(['Вимикачі вакуумні', 'Вимикачі елегазові'])]\n",
        "# Залишимо в df лише такі стовбці\n",
        "df = df[['Область', 'Обсяг']]\n",
        "# Згрупуємо дані за стовбцем\n",
        "df = df.groupby(['Область']).sum()\n",
        "\n",
        "# Відсортуємо df по стовбцю\n",
        "# df = df.sort_values(by='Обсяг', ascending=False)\n",
        "\n",
        "# Додамо до вже існуючого файлу\n",
        "with pd.ExcelWriter('/content/drive/MyDrive/energy-map/public/aid/temp.xlsx', mode='a') as writer:\n",
        "    df.to_excel(writer, sheet_name='Вимикачі_відгрузки02')"
      ],
      "metadata": {
        "id": "AeXZRIbs4vF-"
      },
      "execution_count": null,
      "outputs": []
    },
    {
      "cell_type": "code",
      "source": [
        "# Вимикачі (пріоритетні потреби, за категорією)\n",
        "df = pd.read_excel('/content/drive/MyDrive/energy-map/public/aid/пріоритетні потреби.xlsx', sheet_name='Лише потрібні категорії', engine='openpyxl')\n",
        "# Залишимо в df лише ті рядки,\n",
        "df = df[df['Вид потреби'].isin(['Вимикачі вакуумні', 'Вимикачі елегазові'])]\n",
        "# Залишимо в df лише такі стовбці\n",
        "df = df[['Вид потреби', 'Загальний обсяг 1 пріоритет', 'Загальний обсяг 2 пріоритет']]\n",
        "# Згрупуємо дані за стовбцями\n",
        "df = df.groupby('Вид потреби').sum()\n",
        "# Додамо до вже існуючого файлу result.xlsx вкладку із даними df (ігноруючи індекси)\n",
        "with pd.ExcelWriter('/content/drive/MyDrive/energy-map/public/aid/temp.xlsx', mode='a') as writer:\n",
        "    df.to_excel(writer, sheet_name='Пріор_вимикачі')"
      ],
      "metadata": {
        "id": "7clFULcx45xJ"
      },
      "execution_count": null,
      "outputs": []
    },
    {
      "cell_type": "code",
      "source": [
        "# -- Автотранспорт (в розрізі видів транспорту)\n",
        "df = pd.read_excel('/content/drive/MyDrive/energy-map/public/aid/aid.xlsx', engine='openpyxl')\n",
        "#Залишимо в df лише ті рядки, де в стовбці \"Зона бойових дій\" значення не дорівнює \"-1\"\n",
        "df = df[df['Зона бойових дій'] != -1]\n",
        "# #Залишимо в df лише ті рядки, де в стовбці \"Зона бойових дій\" значення не порожнє\n",
        "# df = df[df['Зона бойових дій'].notna()]\n",
        "df['Забезпечено загалом'] = df['Загальний обсяг'] - df['Незабезпечена потреба, абс. знач']\n",
        "#Залишимо в df лише ті рядки, де в стовбці \"Тип потреби\" значення дорівнює \"Автотранспорт та спецтехніка\"\n",
        "df = df[df['Тип потреби'] == 'Автотранспорт та спецтехніка']\n",
        "# Видалимо рядки\n",
        "df = df[~df['Повне найменування потреби'].isin([\"Шина 26,5-25 E3/L3 28PR TL для Hyundai\", \"Шина 23.5-25 E3/L3 20 PR TL для Shantui\", \"Шина 18.00-25 L5S 32PR TL для МТ-2010\", \"Шина 16.00-25 L5S 32 PR TT для РАUS\", \"Гальма головного підйому для крана козлового КК 125+10 Konecranes\", \"Гальма головного підйому для крана козлового КК 420+ 420+16 Konecranes\", \"Кабіна бурильника для комплектації бурового верстату ZJ50DBS\", \"Бурова вежа для комплектації бурового верстату ZJ50DBS\"])]\n",
        "df['Підтип потреби'] = 'Спецтехніка'\n",
        "# Якщо в стовбчику \"Вид потреби\" значення дорівнює \"Автотранспорт (інше)\", або \"Автомобілі бригадні вантажо-пасажирські\", то в стовбчику \"Підтип потреби\" внесемо значення \"Транспортні засоби\"\n",
        "df.loc[(df['Вид потреби'] == 'Автотранспорт (інше)') | (df['Вид потреби'] == 'Автомобілі бригадні вантажо-пасажирські'), 'Підтип потреби'] = 'Транспортні засоби'\n",
        "# Залишимо в df лише такі стовбці\n",
        "df = df[['Підтип потреби', 'Загальний обсяг', 'Забезпечено загалом', 'Незабезпечена потреба, абс. знач']]\n",
        "# Згрупуємо df по стовбцях\n",
        "df = df.groupby(['Підтип потреби']).sum()\n",
        "# Відсортуємо df по стовбцю 'Загальний обсяг' (від найбільшого до найменшого)\n",
        "df = df.sort_values(by='Загальний обсяг', ascending=False)\n",
        "# Додамо до вже існуючого файлу\n",
        "with pd.ExcelWriter('/content/drive/MyDrive/energy-map/public/aid/temp.xlsx', mode='a') as writer:\n",
        "    df.to_excel(writer, sheet_name='Авто0')"
      ],
      "metadata": {
        "id": "zI86Qb7t3J_J"
      },
      "execution_count": null,
      "outputs": []
    },
    {
      "cell_type": "code",
      "source": [
        "# -- Автотранспорт (в розрізі підтипів і областей)\n",
        "df = pd.read_excel('/content/drive/MyDrive/energy-map/public/aid/aid.xlsx', engine='openpyxl')\n",
        "#Залишимо в df лише ті рядки, де в стовбці \"Зона бойових дій\" значення не дорівнює \"-1\"\n",
        "df = df[df['Зона бойових дій'] != -1]\n",
        "# #Залишимо в df лише ті рядки, де в стовбці \"Зона бойових дій\" значення не порожнє\n",
        "# df = df[df['Зона бойових дій'].notna()]\n",
        "df['Забезпечено загалом'] = df['Загальний обсяг'] - df['Незабезпечена потреба, абс. знач']\n",
        "#Залишимо в df лише ті рядки, де в стовбці \"Тип потреби\" значення дорівнює \"Автотранспорт та спецтехніка\"\n",
        "df = df[df['Тип потреби'] == 'Автотранспорт та спецтехніка']\n",
        "\n",
        "\n",
        "# Видалимо рядки\n",
        "df = df[~df['Повне найменування потреби'].isin([\"Шина 26,5-25 E3/L3 28PR TL для Hyundai\", \"Шина 23.5-25 E3/L3 20 PR TL для Shantui\", \"Шина 18.00-25 L5S 32PR TL для МТ-2010\", \"Шина 16.00-25 L5S 32 PR TT для РАUS\", \"Гальма головного підйому для крана козлового КК 125+10 Konecranes\", \"Гальма головного підйому для крана козлового КК 420+ 420+16 Konecranes\", \"Кабіна бурильника для комплектації бурового верстату ZJ50DBS\", \"Бурова вежа для комплектації бурового верстату ZJ50DBS\"])]\n",
        "\n",
        "df['Підтип потреби'] = 'Спецтехніка'\n",
        "# Якщо в стовбчику \"Вид потреби\" значення дорівнює \"Автотранспорт (інше)\", або \"Автомобілі бригадні вантажо-пасажирські\", то в стовбчику \"Підтип потреби\" внесемо значення \"Транспортні засоби\"\n",
        "df.loc[(df['Вид потреби'] == 'Автотранспорт (інше)') | (df['Вид потреби'] == 'Автомобілі бригадні вантажо-пасажирські'), 'Підтип потреби'] = 'Транспортні засоби'\n",
        "# Залишимо в df лише такі стовбці\n",
        "df = df[['Підтип потреби', 'Область', 'Загальний обсяг', 'Забезпечено загалом', 'Незабезпечена потреба, абс. знач']]\n",
        "# Згрупуємо df по стовбцях\n",
        "df = df.groupby(['Підтип потреби', 'Область']).sum()\n",
        "# Додамо до вже існуючого файлу\n",
        "with pd.ExcelWriter('/content/drive/MyDrive/energy-map/public/aid/temp.xlsx', mode='a') as writer:\n",
        "    df.to_excel(writer, sheet_name='Авто10')"
      ],
      "metadata": {
        "id": "s527hsXB5dvd"
      },
      "execution_count": null,
      "outputs": []
    },
    {
      "cell_type": "code",
      "source": [],
      "metadata": {
        "id": "yCc6L1XuF-ov"
      },
      "execution_count": null,
      "outputs": []
    },
    {
      "cell_type": "code",
      "source": [
        "# -- Автотранспорт (в розрізі областей)\n",
        "df = pd.read_excel('/content/drive/MyDrive/energy-map/public/aid/aid.xlsx', engine='openpyxl')\n",
        "#Залишимо в df лише ті рядки, де в стовбці \"Зона бойових дій\" значення не дорівнює \"-1\"\n",
        "df = df[df['Зона бойових дій'] != -1]\n",
        "# #Залишимо в df лише ті рядки, де в стовбці \"Зона бойових дій\" значення не порожнє\n",
        "# df = df[df['Зона бойових дій'].notna()]\n",
        "df['Забезпечено загалом'] = df['Загальний обсяг'] - df['Незабезпечена потреба, абс. знач']\n",
        "#Залишимо в df лише ті рядки, де в стовбці \"Тип потреби\" значення дорівнює \"Автотранспорт та спецтехніка\"\n",
        "df = df[df['Тип потреби'] == 'Автотранспорт та спецтехніка']\n",
        "df['Підтип потреби'] = 'Спецтехніка'\n",
        "# Якщо в стовбчику \"Вид потреби\" значення дорівнює \"Автотранспорт (інше)\", або \"Автомобілі бригадні вантажо-пасажирські\", то в стовбчику \"Підтип потреби\" внесемо значення \"Транспортні засоби\"\n",
        "df.loc[(df['Вид потреби'] == 'Автотранспорт (інше)') | (df['Вид потреби'] == 'Автомобілі бригадні вантажо-пасажирські'), 'Підтип потреби'] = 'Транспортні засоби'\n",
        "# Залишимо в df лише такі стовбці\n",
        "df = df[['Область', 'Загальний обсяг', 'Забезпечено загалом', 'Незабезпечена потреба, абс. знач']]\n",
        "# Згрупуємо df по стовбцях\n",
        "df = df.groupby(['Область']).sum()\n",
        "# Додамо до вже існуючого файлу\n",
        "with pd.ExcelWriter('/content/drive/MyDrive/energy-map/public/aid/temp.xlsx', mode='a') as writer:\n",
        "    df.to_excel(writer, sheet_name='Авто0')"
      ],
      "metadata": {
        "id": "ZNtzQxWEinx2"
      },
      "execution_count": null,
      "outputs": []
    },
    {
      "cell_type": "code",
      "source": [
        "# -- Автотранспорт (ТОП5 з областями)\n",
        "df = pd.read_excel('/content/drive/MyDrive/energy-map/public/aid/aid.xlsx', engine='openpyxl')\n",
        "#Залишимо в df лише ті рядки, де в стовбці \"Зона бойових дій\" значення не дорівнює \"-1\"\n",
        "df = df[df['Зона бойових дій'] != -1]\n",
        "# #Залишимо в df лише ті рядки, де в стовбці \"Зона бойових дій\" значення не порожнє\n",
        "# df = df[df['Зона бойових дій'].notna()]\n",
        "df['Забезпечено загалом'] = df['Загальний обсяг'] - df['Незабезпечена потреба, абс. знач']\n",
        "#Залишимо в df лише ті рядки, де в стовбці \"Тип потреби\" значення дорівнює \"Автотранспорт та спецтехніка\"\n",
        "df = df[df['Тип потреби'] == 'Автотранспорт та спецтехніка']\n",
        "df['Підтип потреби'] = 'Спецтехніка'\n",
        "# Якщо в стовбчику \"Вид потреби\" значення дорівнює \"Автотранспорт (інше)\", або \"Автомобілі бригадні вантажо-пасажирські\", то в стовбчику \"Підтип потреби\" внесемо значення \"Транспортні засоби\"\n",
        "df.loc[(df['Вид потреби'] == 'Автотранспорт (інше)') | (df['Вид потреби'] == 'Автомобілі бригадні вантажо-пасажирські'), 'Підтип потреби'] = 'Транспортні засоби'\n",
        "# Залишимо в df лише такі стовбці\n",
        "df = df[['Назва  Набувача', 'Область', 'Загальний обсяг', 'Незабезпечена потреба, абс. знач']]\n",
        "# Згрупуємо дані за стовбцем\n",
        "df = df.groupby(['Назва  Набувача', 'Область']).sum()\n",
        "# Відсортуємо df по стовбцю 'Загальний обсяг' (від найбільшого до найменшого)\n",
        "df = df.sort_values(by='Загальний обсяг', ascending=False)\n",
        "# Залишимо лише 5 перших рядків\n",
        "df = df.head(5)\n",
        "# Додамо до вже існуючого файлу\n",
        "with pd.ExcelWriter('/content/drive/MyDrive/energy-map/public/aid/temp.xlsx', mode='a') as writer:\n",
        "    df.to_excel(writer, sheet_name='Авто2')"
      ],
      "metadata": {
        "id": "ejbJ0mpS71zT"
      },
      "execution_count": null,
      "outputs": []
    },
    {
      "cell_type": "code",
      "source": [
        "# -- Автотранспорт (ТОП5 невдах з областями)\n",
        "df = pd.read_excel('/content/drive/MyDrive/energy-map/public/aid/aid.xlsx', engine='openpyxl')\n",
        "#Залишимо в df лише ті рядки, де в стовбці \"Зона бойових дій\" значення не дорівнює \"-1\"\n",
        "df = df[df['Зона бойових дій'] != -1]\n",
        "# #Залишимо в df лише ті рядки, де в стовбці \"Зона бойових дій\" значення не порожнє\n",
        "# df = df[df['Зона бойових дій'].notna()]\n",
        "df['Забезпечено загалом'] = df['Загальний обсяг'] - df['Незабезпечена потреба, абс. знач']\n",
        "#Залишимо в df лише ті рядки, де в стовбці \"Тип потреби\" значення дорівнює \"Автотранспорт та спецтехніка\"\n",
        "df = df[df['Тип потреби'] == 'Автотранспорт та спецтехніка']\n",
        "df['Підтип потреби'] = 'Спецтехніка'\n",
        "# Якщо в стовбчику \"Вид потреби\" значення дорівнює \"Автотранспорт (інше)\", або \"Автомобілі бригадні вантажо-пасажирські\", то в стовбчику \"Підтип потреби\" внесемо значення \"Транспортні засоби\"\n",
        "df.loc[(df['Вид потреби'] == 'Автотранспорт (інше)') | (df['Вид потреби'] == 'Автомобілі бригадні вантажо-пасажирські'), 'Підтип потреби'] = 'Транспортні засоби'\n",
        "# Залишимо в df лише такі стовбці\n",
        "df = df[['Назва  Набувача', 'Область', 'Загальний обсяг', 'Незабезпечена потреба, абс. знач']]\n",
        "# Згрупуємо дані за стовбцем\n",
        "df = df.groupby(['Назва  Набувача', 'Область']).sum()\n",
        "# Відсортуємо df по стовбцю 'Загальний обсяг' (від найбільшого до найменшого)\n",
        "df = df.sort_values(by='Незабезпечена потреба, абс. знач', ascending=False)\n",
        "# Залишимо лише 5 перших рядків\n",
        "df = df.head(5)\n",
        "# Додамо до вже існуючого файлу\n",
        "with pd.ExcelWriter('/content/drive/MyDrive/energy-map/public/aid/temp.xlsx', mode='a') as writer:\n",
        "    df.to_excel(writer, sheet_name='Авто4_1')"
      ],
      "metadata": {
        "id": "TQwYF6-igKt-"
      },
      "execution_count": null,
      "outputs": []
    },
    {
      "cell_type": "code",
      "source": [
        "# -- Автотранспорт (В розрізі областей - треба буде вручну вибати відомі компанії і зробити по них таблицю)\n",
        "df = pd.read_excel('/content/drive/MyDrive/energy-map/public/aid/aid.xlsx', engine='openpyxl')\n",
        "#Залишимо в df лише ті рядки, де в стовбці \"Зона бойових дій\" значення не дорівнює \"-1\"\n",
        "df = df[df['Зона бойових дій'] != -1]\n",
        "# #Залишимо в df лише ті рядки, де в стовбці \"Зона бойових дій\" значення не порожнє\n",
        "# df = df[df['Зона бойових дій'].notna()]\n",
        "df['Забезпечено загалом'] = df['Загальний обсяг'] - df['Незабезпечена потреба, абс. знач']\n",
        "#Залишимо в df лише ті рядки, де в стовбці \"Тип потреби\" значення дорівнює \"Автотранспорт та спецтехніка\"\n",
        "df = df[df['Тип потреби'] == 'Автотранспорт та спецтехніка']\n",
        "df['Підтип потреби'] = 'Спецтехніка'\n",
        "# Якщо в стовбчику \"Вид потреби\" значення дорівнює \"Автотранспорт (інше)\", або \"Автомобілі бригадні вантажо-пасажирські\", то в стовбчику \"Підтип потреби\" внесемо значення \"Транспортні засоби\"\n",
        "df.loc[(df['Вид потреби'] == 'Автотранспорт (інше)') | (df['Вид потреби'] == 'Автомобілі бригадні вантажо-пасажирські'), 'Підтип потреби'] = 'Транспортні засоби'\n",
        "# Залишимо в df лише такі стовбці\n",
        "df = df[['Назва  Набувача', 'Загальний обсяг', 'Забезпечено загалом', 'Незабезпечена потреба, абс. знач']]\n",
        "# Згрупуємо дані за стовбцем\n",
        "df = df.groupby(['Назва  Набувача']).sum()\n",
        "# Відсортуємо df по стовбцю 'Загальний обсяг' (від найбільшого до найменшого)\n",
        "df = df.sort_values(by='Загальний обсяг', ascending=False)\n",
        "# Додамо до вже існуючого файлу\n",
        "with pd.ExcelWriter('/content/drive/MyDrive/energy-map/public/aid/temp.xlsx', mode='a') as writer:\n",
        "    df.to_excel(writer, sheet_name='Авто3')"
      ],
      "metadata": {
        "id": "gfn_beX4VYFF"
      },
      "execution_count": null,
      "outputs": []
    },
    {
      "cell_type": "code",
      "source": [
        "# Автотранспорт (пріоритетні потреби, за категорією)\n",
        "df = pd.read_excel('/content/drive/MyDrive/energy-map/public/aid/пріоритетні потреби.xlsx', sheet_name='Лише потрібні категорії', engine='openpyxl')\n",
        "# Залишимо в df лише ті рядки,\n",
        "df = df[df['Вид потреби'].isin(['Спецтехніка', 'Транспортні засоби'])]\n",
        "# Залишимо в df лише такі стовбці\n",
        "df = df[['Вид потреби', 'Загальний обсяг 1 пріоритет', 'Загальний обсяг 2 пріоритет']]\n",
        "# Згрупуємо дані за стовбцями\n",
        "df = df.groupby('Вид потреби').sum()\n",
        "# Додамо до вже існуючого файлу result.xlsx вкладку із даними df (ігноруючи індекси)\n",
        "with pd.ExcelWriter('/content/drive/MyDrive/energy-map/public/aid/temp.xlsx', mode='a') as writer:\n",
        "    df.to_excel(writer, sheet_name='Пріор_Авто')"
      ],
      "metadata": {
        "id": "9GsasarCOteH"
      },
      "execution_count": null,
      "outputs": []
    },
    {
      "cell_type": "code",
      "source": [
        "# -- Кабелі (в розрізі видів потреб, треба буде вручну відібрати лише силові кабелі)\n",
        "df = pd.read_excel('/content/drive/MyDrive/energy-map/public/aid/aid.xlsx', engine='openpyxl')\n",
        "#Залишимо в df лише ті рядки, де в стовбці \"Зона бойових дій\" значення не дорівнює \"-1\"\n",
        "df = df[df['Зона бойових дій'] != -1]\n",
        "# #Залишимо в df лише ті рядки, де в стовбці \"Зона бойових дій\" значення не порожнє\n",
        "# df = df[df['Зона бойових дій'].notna()]\n",
        "#Залишимо в df лише ті рядки, де в стовбці \"Тип потреби\" значення дорівнює\n",
        "df = df[df['Тип потреби'] == 'Кабельна продукція']\n",
        "# Залишимо в df лише ті рядки, де в стовбчику 'Одиниця вимірювання' є 'км', або в стовбчику 'Коефіцієнт од. вимірювання' не порожнє значення\n",
        "df = df[(df['Одиниця вимірювання'] == 'км') | (df['Коефіцієнт од. вимірювання'].notnull())]\n",
        "# В df залишимо лише ті рядки де в стовбчику \"Вид потреби\" значення не рівне \"Інша кабельна продукція\"\n",
        "df = df[df['Вид потреби'] != 'Інша кабельна продукція']\n",
        "\n",
        "# В стовбчику 'Коефіцієнт од. вимірювання' всі порожні значення замінимо на 1\n",
        "df['Коефіцієнт од. вимірювання'].fillna(1, inplace=True)\n",
        "\n",
        "# Замінимо порожні значення на нуль в таких стовбчиках\n",
        "df['Загальний обсяг'].fillna(0, inplace=True)\n",
        "df['Забезпечено'].fillna(0, inplace=True)\n",
        "df['Забезпечено самостійно, гумдопомога'].fillna(0, inplace=True)\n",
        "df['Забезпечено самостійно, закупівлі'].fillna(0, inplace=True)\n",
        "df['Забезпечено закупівлю за кошти Фонду'].fillna(0, inplace=True)\n",
        "df['Незабезпечена потреба, абс. знач'].fillna(0, inplace=True)\n",
        "# Значення в стовбчику \"Коефіцієнт од. вимірювання\"\n",
        "df['Загальний обсяг'] = df['Загальний обсяг'] * df['Коефіцієнт од. вимірювання']\n",
        "df['Забезпечено'] = df['Забезпечено'] * df['Коефіцієнт од. вимірювання']\n",
        "df['Забезпечено самостійно, гумдопомога'] = df['Забезпечено самостійно, гумдопомога'] * df['Коефіцієнт од. вимірювання']\n",
        "df['Забезпечено самостійно, закупівлі'] = df['Забезпечено самостійно, закупівлі'] * df['Коефіцієнт од. вимірювання']\n",
        "df['Забезпечено закупівлю за кошти Фонду'] = df['Забезпечено закупівлю за кошти Фонду'] * df['Коефіцієнт од. вимірювання']\n",
        "df['Незабезпечена потреба, абс. знач'] = df['Незабезпечена потреба, абс. знач'] * df['Коефіцієнт од. вимірювання']\n",
        "\n",
        "df['Забезпечено загалом'] = df['Загальний обсяг'] - df['Незабезпечена потреба, абс. знач']\n",
        "# Залишимо в df лише такі стовбці\n",
        "df = df[['Вид потреби', 'Загальний обсяг', 'Забезпечено загалом', 'Незабезпечена потреба, абс. знач']]\n",
        "# Згрупуємо df по стовбцях\n",
        "df = df.groupby(['Вид потреби']).sum()\n",
        "# Відсортуємо df по стовбцю 'Загальний обсяг' (від найбільшого до найменшого)\n",
        "df = df.sort_values(by='Загальний обсяг', ascending=False)\n",
        "# Додамо до вже існуючого файлу\n",
        "with pd.ExcelWriter('/content/drive/MyDrive/energy-map/public/aid/temp.xlsx', mode='a') as writer:\n",
        "    df.to_excel(writer, sheet_name='Кабель')"
      ],
      "metadata": {
        "id": "7fMd61RvHErl"
      },
      "execution_count": null,
      "outputs": []
    },
    {
      "cell_type": "code",
      "source": [
        "# -- Кабелі (в розрізі областей)\n",
        "df = pd.read_excel('/content/drive/MyDrive/energy-map/public/aid/aid.xlsx', engine='openpyxl')\n",
        "#Залишимо в df лише ті рядки, де в стовбці \"Зона бойових дій\" значення не дорівнює \"-1\"\n",
        "df = df[df['Зона бойових дій'] != -1]\n",
        "# #Залишимо в df лише ті рядки, де в стовбці \"Зона бойових дій\" значення не порожнє\n",
        "# df = df[df['Зона бойових дій'].notna()]\n",
        "#Залишимо в df лише ті рядки, де в стовбці \"Тип потреби\" значення дорівнює\n",
        "df = df[df['Тип потреби'] == 'Кабельна продукція']\n",
        "# Залишимо в df лише ті рядки, де в стовбчику 'Одиниця вимірювання' є 'км', або в стовбчику 'Коефіцієнт од. вимірювання' не порожнє значення\n",
        "df = df[(df['Одиниця вимірювання'] == 'км') | (df['Коефіцієнт од. вимірювання'].notnull())]\n",
        "# В df залишимо лише ті рядки де в стовбчику \"Вид потреби\" значення не рівне \"Інша кабельна продукція\"\n",
        "df = df[df['Вид потреби'] != 'Інша кабельна продукція']\n",
        "\n",
        "# В стовбчику 'Коефіцієнт од. вимірювання' всі порожні значення замінимо на 1\n",
        "df['Коефіцієнт од. вимірювання'].fillna(1, inplace=True)\n",
        "\n",
        "# Замінимо порожні значення на нуль в таких стовбчиках\n",
        "df['Загальний обсяг'].fillna(0, inplace=True)\n",
        "df['Забезпечено'].fillna(0, inplace=True)\n",
        "df['Забезпечено самостійно, гумдопомога'].fillna(0, inplace=True)\n",
        "df['Забезпечено самостійно, закупівлі'].fillna(0, inplace=True)\n",
        "df['Забезпечено закупівлю за кошти Фонду'].fillna(0, inplace=True)\n",
        "df['Незабезпечена потреба, абс. знач'].fillna(0, inplace=True)\n",
        "# Значення в стовбчику \"Коефіцієнт од. вимірювання\"\n",
        "df['Загальний обсяг'] = df['Загальний обсяг'] * df['Коефіцієнт од. вимірювання']\n",
        "df['Забезпечено'] = df['Забезпечено'] * df['Коефіцієнт од. вимірювання']\n",
        "df['Забезпечено самостійно, гумдопомога'] = df['Забезпечено самостійно, гумдопомога'] * df['Коефіцієнт од. вимірювання']\n",
        "df['Забезпечено самостійно, закупівлі'] = df['Забезпечено самостійно, закупівлі'] * df['Коефіцієнт од. вимірювання']\n",
        "df['Забезпечено закупівлю за кошти Фонду'] = df['Забезпечено закупівлю за кошти Фонду'] * df['Коефіцієнт од. вимірювання']\n",
        "df['Незабезпечена потреба, абс. знач'] = df['Незабезпечена потреба, абс. знач'] * df['Коефіцієнт од. вимірювання']\n",
        "\n",
        "df['Забезпечено загалом'] = df['Загальний обсяг'] - df['Незабезпечена потреба, абс. знач']\n",
        "# Залишимо в df лише такі стовбці\n",
        "df = df[['Область', 'Загальний обсяг', 'Забезпечено загалом', 'Незабезпечена потреба, абс. знач']]\n",
        "# Згрупуємо df по стовбцях\n",
        "df = df.groupby(['Область']).sum()\n",
        "# Відсортуємо df по стовбцю 'Загальний обсяг' (від найбільшого до найменшого)\n",
        "df = df.sort_values(by='Загальний обсяг', ascending=False)\n",
        "# Додамо до вже існуючого файлу\n",
        "with pd.ExcelWriter('/content/drive/MyDrive/energy-map/public/aid/temp.xlsx', mode='a') as writer:\n",
        "    df.to_excel(writer, sheet_name='Кабель1')"
      ],
      "metadata": {
        "id": "MnvkLddYKZuT"
      },
      "execution_count": null,
      "outputs": []
    },
    {
      "cell_type": "code",
      "source": [
        "# -- Кабелі (в ТОП5 з областями)\n",
        "df = pd.read_excel('/content/drive/MyDrive/energy-map/public/aid/aid.xlsx', engine='openpyxl')\n",
        "#Залишимо в df лише ті рядки, де в стовбці \"Зона бойових дій\" значення не дорівнює \"-1\"\n",
        "df = df[df['Зона бойових дій'] != -1]\n",
        "# #Залишимо в df лише ті рядки, де в стовбці \"Зона бойових дій\" значення не порожнє\n",
        "# df = df[df['Зона бойових дій'].notna()]\n",
        "#Залишимо в df лише ті рядки, де в стовбці \"Тип потреби\" значення дорівнює\n",
        "df = df[df['Тип потреби'] == 'Кабельна продукція']\n",
        "# Залишимо в df лише ті рядки, де в стовбчику 'Одиниця вимірювання' є 'км', або в стовбчику 'Коефіцієнт од. вимірювання' не порожнє значення\n",
        "df = df[(df['Одиниця вимірювання'] == 'км') | (df['Коефіцієнт од. вимірювання'].notnull())]\n",
        "# В df залишимо лише ті рядки де в стовбчику \"Вид потреби\" значення не рівне \"Інша кабельна продукція\"\n",
        "df = df[df['Вид потреби'] != 'Інша кабельна продукція']\n",
        "\n",
        "# В стовбчику 'Коефіцієнт од. вимірювання' всі порожні значення замінимо на 1\n",
        "df['Коефіцієнт од. вимірювання'].fillna(1, inplace=True)\n",
        "\n",
        "# Замінимо порожні значення на нуль в таких стовбчиках\n",
        "df['Загальний обсяг'].fillna(0, inplace=True)\n",
        "df['Забезпечено'].fillna(0, inplace=True)\n",
        "df['Забезпечено самостійно, гумдопомога'].fillna(0, inplace=True)\n",
        "df['Забезпечено самостійно, закупівлі'].fillna(0, inplace=True)\n",
        "df['Забезпечено закупівлю за кошти Фонду'].fillna(0, inplace=True)\n",
        "df['Незабезпечена потреба, абс. знач'].fillna(0, inplace=True)\n",
        "# Значення в стовбчику \"Коефіцієнт од. вимірювання\"\n",
        "df['Загальний обсяг'] = df['Загальний обсяг'] * df['Коефіцієнт од. вимірювання']\n",
        "df['Забезпечено'] = df['Забезпечено'] * df['Коефіцієнт од. вимірювання']\n",
        "df['Забезпечено самостійно, гумдопомога'] = df['Забезпечено самостійно, гумдопомога'] * df['Коефіцієнт од. вимірювання']\n",
        "df['Забезпечено самостійно, закупівлі'] = df['Забезпечено самостійно, закупівлі'] * df['Коефіцієнт од. вимірювання']\n",
        "df['Забезпечено закупівлю за кошти Фонду'] = df['Забезпечено закупівлю за кошти Фонду'] * df['Коефіцієнт од. вимірювання']\n",
        "df['Незабезпечена потреба, абс. знач'] = df['Незабезпечена потреба, абс. знач'] * df['Коефіцієнт од. вимірювання']\n",
        "\n",
        "df['Забезпечено загалом'] = df['Загальний обсяг'] - df['Незабезпечена потреба, абс. знач']\n",
        "# Залишимо в df лише такі стовбці\n",
        "df = df[['Назва  Набувача', 'Область', 'Загальний обсяг', 'Незабезпечена потреба, абс. знач']]\n",
        "# Згрупуємо дані за стовбцем\n",
        "df = df.groupby(['Назва  Набувача', 'Область']).sum()\n",
        "# Відсортуємо df по стовбцю 'Загальний обсяг' (від найбільшого до найменшого)\n",
        "df = df.sort_values(by='Загальний обсяг', ascending=False)\n",
        "# Залишимо лише 5 перших рядків\n",
        "df = df.head(5)\n",
        "# Додамо до вже існуючого файлу\n",
        "with pd.ExcelWriter('/content/drive/MyDrive/energy-map/public/aid/temp.xlsx', mode='a') as writer:\n",
        "    df.to_excel(writer, sheet_name='Кабель2')"
      ],
      "metadata": {
        "id": "t1Kt9S53KmPE"
      },
      "execution_count": null,
      "outputs": []
    },
    {
      "cell_type": "code",
      "source": [
        "# -- Кабелі (в ТОП5 в кого найбільш незадоволені потреби (з областями))\n",
        "df = pd.read_excel('/content/drive/MyDrive/energy-map/public/aid/aid.xlsx', engine='openpyxl')\n",
        "#Залишимо в df лише ті рядки, де в стовбці \"Зона бойових дій\" значення не дорівнює \"-1\"\n",
        "df = df[df['Зона бойових дій'] != -1]\n",
        "# #Залишимо в df лише ті рядки, де в стовбці \"Зона бойових дій\" значення не порожнє\n",
        "# df = df[df['Зона бойових дій'].notna()]\n",
        "#Залишимо в df лише ті рядки, де в стовбці \"Тип потреби\" значення дорівнює\n",
        "df = df[df['Тип потреби'] == 'Кабельна продукція']\n",
        "# Залишимо в df лише ті рядки, де в стовбчику 'Одиниця вимірювання' є 'км', або в стовбчику 'Коефіцієнт од. вимірювання' не порожнє значення\n",
        "df = df[(df['Одиниця вимірювання'] == 'км') | (df['Коефіцієнт од. вимірювання'].notnull())]\n",
        "# В df залишимо лише ті рядки де в стовбчику \"Вид потреби\" значення не рівне \"Інша кабельна продукція\"\n",
        "df = df[df['Вид потреби'] != 'Інша кабельна продукція']\n",
        "\n",
        "# В стовбчику 'Коефіцієнт од. вимірювання' всі порожні значення замінимо на 1\n",
        "df['Коефіцієнт од. вимірювання'].fillna(1, inplace=True)\n",
        "\n",
        "# Замінимо порожні значення на нуль в таких стовбчиках\n",
        "df['Загальний обсяг'].fillna(0, inplace=True)\n",
        "df['Забезпечено'].fillna(0, inplace=True)\n",
        "df['Забезпечено самостійно, гумдопомога'].fillna(0, inplace=True)\n",
        "df['Забезпечено самостійно, закупівлі'].fillna(0, inplace=True)\n",
        "df['Забезпечено закупівлю за кошти Фонду'].fillna(0, inplace=True)\n",
        "df['Незабезпечена потреба, абс. знач'].fillna(0, inplace=True)\n",
        "# Значення в стовбчику \"Коефіцієнт од. вимірювання\"\n",
        "df['Загальний обсяг'] = df['Загальний обсяг'] * df['Коефіцієнт од. вимірювання']\n",
        "df['Забезпечено'] = df['Забезпечено'] * df['Коефіцієнт од. вимірювання']\n",
        "df['Забезпечено самостійно, гумдопомога'] = df['Забезпечено самостійно, гумдопомога'] * df['Коефіцієнт од. вимірювання']\n",
        "df['Забезпечено самостійно, закупівлі'] = df['Забезпечено самостійно, закупівлі'] * df['Коефіцієнт од. вимірювання']\n",
        "df['Забезпечено закупівлю за кошти Фонду'] = df['Забезпечено закупівлю за кошти Фонду'] * df['Коефіцієнт од. вимірювання']\n",
        "df['Незабезпечена потреба, абс. знач'] = df['Незабезпечена потреба, абс. знач'] * df['Коефіцієнт од. вимірювання']\n",
        "\n",
        "df['Забезпечено загалом'] = df['Загальний обсяг'] - df['Незабезпечена потреба, абс. знач']\n",
        "# Залишимо в df лише такі стовбці\n",
        "df = df[['Назва  Набувача', 'Область', 'Загальний обсяг', 'Незабезпечена потреба, абс. знач']]\n",
        "# Згрупуємо дані за стовбцем\n",
        "df = df.groupby(['Назва  Набувача', 'Область']).sum()\n",
        "# Відсортуємо df по стовбцю 'Загальний обсяг' (від найбільшого до найменшого)\n",
        "df = df.sort_values(by='Незабезпечена потреба, абс. знач', ascending=False)\n",
        "# Залишимо лише 5 перших рядків\n",
        "df = df.head(5)\n",
        "# Додамо до вже існуючого файлу\n",
        "with pd.ExcelWriter('/content/drive/MyDrive/energy-map/public/aid/temp.xlsx', mode='a') as writer:\n",
        "    df.to_excel(writer, sheet_name='Кабель3')"
      ],
      "metadata": {
        "id": "rte-rWg5TX7W"
      },
      "execution_count": null,
      "outputs": []
    },
    {
      "cell_type": "code",
      "source": [
        "# Кабелі (ті що відправлені без потреби, в розрізі категорій), потрібні категорії вибираємо вручну\n",
        "df = pd.read_excel('/content/drive/MyDrive/energy-map/public/aid/aid.xlsx', sheet_name=\"Відгрузки\", engine='openpyxl')\n",
        "# В df залишимо лише ті рядки в яких в стовбчику \"ID Позиції\" значення або \"PT100001\" або порожнє значення\n",
        "df = df[(df['ID Позиції'] == 'PT100001') | (df['ID Позиції'].isnull())]\n",
        "#Залишимо в df лише ті рядки, де в стовбці \"Зона бойових дій\" значення не дорівнює \"-1\"\n",
        "df = df[df['Зона бойових дій'] != -1]\n",
        "\n",
        "#Залишимо в df лише ті рядки\n",
        "df = df[df['Тип потреби'] == 'Кабельна продукція']\n",
        "#Залишимо в df лише ті рядки\n",
        "df = df[df['Одиниці вимірювання'] == 'км']\n",
        "# Залишимо в df лише такі стовбці\n",
        "df = df[['Вид потреби', 'Обсяг']]\n",
        "# Згрупуємо дані за стовбцем\n",
        "df = df.groupby(['Вид потреби']).sum()\n",
        "\n",
        "# Відсортуємо df по стовбцю\n",
        "# df = df.sort_values(by='Обсяг', ascending=False)\n",
        "\n",
        "# Додамо до вже існуючого файлу\n",
        "with pd.ExcelWriter('/content/drive/MyDrive/energy-map/public/aid/temp.xlsx', mode='a') as writer:\n",
        "    df.to_excel(writer, sheet_name='Кабелі_відгрузки')"
      ],
      "metadata": {
        "id": "C7I_Gc-DQ66Z"
      },
      "execution_count": null,
      "outputs": []
    },
    {
      "cell_type": "code",
      "source": [
        "# Кабелі (ті що відправлені без потреби, в розрізі областей), потрібні категорії вибираємо вручну\n",
        "df = pd.read_excel('/content/drive/MyDrive/energy-map/public/aid/aid.xlsx', sheet_name=\"Відгрузки\", engine='openpyxl')\n",
        "# В df залишимо лише ті рядки в яких в стовбчику \"ID Позиції\" значення або \"PT100001\" або порожнє значення\n",
        "df = df[(df['ID Позиції'] == 'PT100001') | (df['ID Позиції'].isnull())]\n",
        "#Залишимо в df лише ті рядки, де в стовбці \"Зона бойових дій\" значення не дорівнює \"-1\"\n",
        "df = df[df['Зона бойових дій'] != -1]\n",
        "\n",
        "#Залишимо в df лише ті рядки\n",
        "df = df[df['Тип потреби'] == 'Кабельна продукція']\n",
        "#Залишимо в df лише ті рядки\n",
        "df = df[df['Одиниці вимірювання'] == 'км']\n",
        "# Залишимо в df лише такі стовбці\n",
        "df = df[['Область', 'Обсяг']]\n",
        "# Згрупуємо дані за стовбцем\n",
        "df = df.groupby(['Область']).sum()\n",
        "\n",
        "# Відсортуємо df по стовбцю\n",
        "# df = df.sort_values(by='Обсяг', ascending=False)\n",
        "\n",
        "# Додамо до вже існуючого файлу\n",
        "with pd.ExcelWriter('/content/drive/MyDrive/energy-map/public/aid/temp.xlsx', mode='a') as writer:\n",
        "    df.to_excel(writer, sheet_name='Кабелі_відгрузки1')"
      ],
      "metadata": {
        "id": "yP7EYXAmSU4e"
      },
      "execution_count": null,
      "outputs": []
    },
    {
      "cell_type": "code",
      "source": [
        "# Кабелі (пріоритетні потреби, за категорією)\n",
        "df = pd.read_excel('/content/drive/MyDrive/energy-map/public/aid/пріоритетні потреби.xlsx', sheet_name='Лише потрібні категорії', engine='openpyxl')\n",
        "# Залишимо в df лише ті рядки, де в стовбці \"Тип потреби\" значення рівне \"Електростанції (генератори) та обладнання\", і в стовбчику \"Вид потреби\" значення рівне \"Газотурбінні установки\"\n",
        "df = df[df['Тип потреби'] == 'Кабельна продукція']\n",
        "#Залишимо в df лише ті рядки\n",
        "df = df[df['Одиниця вимірювання'] == 'км']\n",
        "# Залишимо в df лише такі стовбці\n",
        "df = df[['Вид потреби', 'Загальний обсяг 1 пріоритет', 'Загальний обсяг 2 пріоритет']]\n",
        "# Згрупуємо дані за стовбцями\n",
        "df = df.groupby('Вид потреби').sum()\n",
        "# Додамо до вже існуючого файлу result.xlsx вкладку із даними df (ігноруючи індекси)\n",
        "with pd.ExcelWriter('/content/drive/MyDrive/energy-map/public/aid/temp.xlsx', mode='a') as writer:\n",
        "    df.to_excel(writer, sheet_name='Пріор_кабелі')"
      ],
      "metadata": {
        "id": "wJO5xb0lTZEy"
      },
      "execution_count": null,
      "outputs": []
    },
    {
      "cell_type": "code",
      "source": [
        "# -- Трансформатори силові (в розрізі категорій)\n",
        "df = pd.read_excel('/content/drive/MyDrive/energy-map/public/aid/aid.xlsx', engine='openpyxl')\n",
        "#Залишимо в df лише ті рядки, де в стовбці \"Зона бойових дій\" значення не дорівнює \"-1\"\n",
        "df = df[df['Зона бойових дій'] != -1]\n",
        "# #Залишимо в df лише ті рядки, де в стовбці \"Зона бойових дій\" значення не порожнє\n",
        "# df = df[df['Зона бойових дій'].notna()]\n",
        "df['Забезпечено загалом'] = df['Загальний обсяг'] - df['Незабезпечена потреба, абс. знач']\n",
        "# Залишимо в df лише ті рядки, де в стовбці \"Вид потреби\" значення рівні такому:\n",
        "df = df[df['Вид потреби'].isin([\"Автотрансформатори\", \"Трансформатори силові 10-40 кВ\", \"Трансформатори силові 110-220 кВ\", \"Трансформатори силові до 6 кВ\"])]\n",
        "# Залишимо в df лише такі стовбці\n",
        "df = df[['Вид потреби', 'Загальний обсяг', 'Забезпечено загалом', 'Незабезпечена потреба, абс. знач']]\n",
        "# Згрупуємо df по стовбцях\n",
        "df = df.groupby(['Вид потреби']).sum()\n",
        "# Відсортуємо df по стовбцю 'Загальний обсяг' (від найбільшого до найменшого)\n",
        "df = df.sort_values(by='Загальний обсяг', ascending=False)\n",
        "# Додамо до вже існуючого файлу\n",
        "with pd.ExcelWriter('/content/drive/MyDrive/energy-map/public/aid/temp.xlsx', mode='a') as writer:\n",
        "    df.to_excel(writer, sheet_name='Трансф_силові3')"
      ],
      "metadata": {
        "id": "5hIbJy1ktYhN"
      },
      "execution_count": null,
      "outputs": []
    },
    {
      "cell_type": "code",
      "source": [
        "# -- Трансформатори силові (в розрізі областей)\n",
        "df = pd.read_excel('/content/drive/MyDrive/energy-map/public/aid/aid.xlsx', engine='openpyxl')\n",
        "#Залишимо в df лише ті рядки, де в стовбці \"Зона бойових дій\" значення не дорівнює \"-1\"\n",
        "df = df[df['Зона бойових дій'] != -1]\n",
        "# #Залишимо в df лише ті рядки, де в стовбці \"Зона бойових дій\" значення не порожнє\n",
        "# df = df[df['Зона бойових дій'].notna()]\n",
        "df['Забезпечено загалом'] = df['Загальний обсяг'] - df['Незабезпечена потреба, абс. знач']\n",
        "# Залишимо в df лише ті рядки, де в стовбці \"Вид потреби\" значення рівні такому:\n",
        "df = df[df['Вид потреби'].isin([\"Автотрансформатори\", \"Трансформатори силові 10-40 кВ\", \"Трансформатори силові 110-220 кВ\", \"Трансформатори силові до 6 кВ\"])]\n",
        "# Залишимо в df лише такі стовбці\n",
        "df = df[['Область', 'Загальний обсяг', 'Забезпечено загалом', 'Незабезпечена потреба, абс. знач']]\n",
        "# Згрупуємо df по стовбцях\n",
        "df = df.groupby(['Область']).sum()\n",
        "# Відсортуємо df по стовбцю 'Загальний обсяг' (від найбільшого до найменшого)\n",
        "df = df.sort_values(by='Загальний обсяг', ascending=False)\n",
        "# Додамо до вже існуючого файлу\n",
        "with pd.ExcelWriter('/content/drive/MyDrive/energy-map/public/aid/temp.xlsx', mode='a') as writer:\n",
        "    df.to_excel(writer, sheet_name='Трансф_силові4')"
      ],
      "metadata": {
        "id": "CslvESImxSBQ"
      },
      "execution_count": null,
      "outputs": []
    },
    {
      "cell_type": "code",
      "source": [
        "# -- Трансформатори силові (ТОП5 з областями)\n",
        "df = pd.read_excel('/content/drive/MyDrive/energy-map/public/aid/aid.xlsx', engine='openpyxl')\n",
        "#Залишимо в df лише ті рядки, де в стовбці \"Зона бойових дій\" значення не дорівнює \"-1\"\n",
        "df = df[df['Зона бойових дій'] != -1]\n",
        "# #Залишимо в df лише ті рядки, де в стовбці \"Зона бойових дій\" значення не порожнє\n",
        "# df = df[df['Зона бойових дій'].notna()]\n",
        "df['Забезпечено загалом'] = df['Загальний обсяг'] - df['Незабезпечена потреба, абс. знач']\n",
        "# Залишимо в df лише ті рядки, де в стовбці \"Вид потреби\" значення рівні такому:\n",
        "df = df[df['Вид потреби'].isin([\"Автотрансформатори\", \"Трансформатори силові 10-40 кВ\", \"Трансформатори силові 110-220 кВ\", \"Трансформатори силові до 6 кВ\"])]\n",
        "# Залишимо в df лише такі стовбці\n",
        "df = df[['Назва  Набувача', 'Область', 'Загальний обсяг', 'Незабезпечена потреба, абс. знач']]\n",
        "# Згрупуємо дані за стовбцем\n",
        "df = df.groupby(['Назва  Набувача', 'Область']).sum()\n",
        "# Відсортуємо df по стовбцю 'Загальний обсяг' (від найбільшого до найменшого)\n",
        "df = df.sort_values(by='Загальний обсяг', ascending=False)\n",
        "# Залишимо лише 5 перших рядків\n",
        "df = df.head(5)\n",
        "# Додамо до вже існуючого файлу\n",
        "with pd.ExcelWriter('/content/drive/MyDrive/energy-map/public/aid/temp.xlsx', mode='a') as writer:\n",
        "    df.to_excel(writer, sheet_name='Трансф_силові5')"
      ],
      "metadata": {
        "id": "72i2FWcrzIuy"
      },
      "execution_count": null,
      "outputs": []
    },
    {
      "cell_type": "code",
      "source": [
        "# -- Трансформатори силові (ТОП5 по незабезпечених потребах з областями)\n",
        "df = pd.read_excel('/content/drive/MyDrive/energy-map/public/aid/aid.xlsx', engine='openpyxl')\n",
        "#Залишимо в df лише ті рядки, де в стовбці \"Зона бойових дій\" значення не дорівнює \"-1\"\n",
        "df = df[df['Зона бойових дій'] != -1]\n",
        "# #Залишимо в df лише ті рядки, де в стовбці \"Зона бойових дій\" значення не порожнє\n",
        "# df = df[df['Зона бойових дій'].notna()]\n",
        "df['Забезпечено загалом'] = df['Загальний обсяг'] - df['Незабезпечена потреба, абс. знач']\n",
        "# Залишимо в df лише ті рядки, де в стовбці \"Вид потреби\" значення рівні такому:\n",
        "df = df[df['Вид потреби'].isin([\"Автотрансформатори\", \"Трансформатори силові 10-40 кВ\", \"Трансформатори силові 110-220 кВ\", \"Трансформатори силові до 6 кВ\"])]\n",
        "# Залишимо в df лише такі стовбці\n",
        "df = df[['Назва  Набувача', 'Область', 'Загальний обсяг', 'Незабезпечена потреба, абс. знач']]\n",
        "# Згрупуємо дані за стовбцем\n",
        "df = df.groupby(['Назва  Набувача', 'Область']).sum()\n",
        "# Відсортуємо df по стовбцю 'Загальний обсяг' (від найбільшого до найменшого)\n",
        "df = df.sort_values(by='Незабезпечена потреба, абс. знач', ascending=False)\n",
        "# Залишимо лише 5 перших рядків\n",
        "df = df.head(5)\n",
        "# Додамо до вже існуючого файлу\n",
        "with pd.ExcelWriter('/content/drive/MyDrive/energy-map/public/aid/temp.xlsx', mode='a') as writer:\n",
        "    df.to_excel(writer, sheet_name='Трансф_силові6')"
      ],
      "metadata": {
        "id": "UXNzUZ1Ch3pp"
      },
      "execution_count": null,
      "outputs": []
    },
    {
      "cell_type": "code",
      "source": [
        "# Трансформатори силові (ті що відправлені без потреби, в розрізі категорій)\n",
        "df = pd.read_excel('/content/drive/MyDrive/energy-map/public/aid/aid.xlsx', sheet_name=\"Відгрузки\", engine='openpyxl')\n",
        "# В df залишимо лише ті рядки в яких в стовбчику \"ID Позиції\" значення або \"PT100001\" або порожнє значення\n",
        "df = df[(df['ID Позиції'] == 'PT100001') | (df['ID Позиції'].isnull())]\n",
        "#Залишимо в df лише ті рядки, де в стовбці \"Зона бойових дій\" значення не дорівнює \"-1\"\n",
        "df = df[df['Зона бойових дій'] != -1]\n",
        "# Залишимо в df лише ті рядки\n",
        "df = df[df['Вид потреби'].isin([\"Автотрансформатори\", \"Трансформатори силові 10-40 кВ\", \"Трансформатори силові 110-220 кВ\", \"Трансформатори силові до 6 кВ\"])]\n",
        "# Залишимо в df лише такі стовбці\n",
        "df = df[['Вид потреби', 'Обсяг']]\n",
        "# Згрупуємо дані за стовбцем\n",
        "df = df.groupby(['Вид потреби']).sum()\n",
        "\n",
        "# Відсортуємо df по стовбцю\n",
        "# df = df.sort_values(by='Обсяг', ascending=False)\n",
        "\n",
        "# Додамо до вже існуючого файлу\n",
        "with pd.ExcelWriter('/content/drive/MyDrive/energy-map/public/aid/temp.xlsx', mode='a') as writer:\n",
        "    df.to_excel(writer, sheet_name='Трансф_силові_відгрузки')"
      ],
      "metadata": {
        "id": "0x8pfko6rvRr"
      },
      "execution_count": null,
      "outputs": []
    },
    {
      "cell_type": "code",
      "source": [
        "# Трансформатори силові (ті що відправлені без потреби, в розрізі областей)\n",
        "df = pd.read_excel('/content/drive/MyDrive/energy-map/public/aid/aid.xlsx', sheet_name=\"Відгрузки\", engine='openpyxl')\n",
        "# В df залишимо лише ті рядки в яких в стовбчику \"ID Позиції\" значення або \"PT100001\" або порожнє значення\n",
        "df = df[(df['ID Позиції'] == 'PT100001') | (df['ID Позиції'].isnull())]\n",
        "#Залишимо в df лише ті рядки, де в стовбці \"Зона бойових дій\" значення не дорівнює \"-1\"\n",
        "df = df[df['Зона бойових дій'] != -1]\n",
        "# Залишимо в df лише ті рядки\n",
        "df = df[df['Вид потреби'].isin([\"Автотрансформатори\", \"Трансформатори силові 10-40 кВ\", \"Трансформатори силові 110-220 кВ\", \"Трансформатори силові до 6 кВ\"])]\n",
        "# Залишимо в df лише такі стовбці\n",
        "df = df[['Область', 'Обсяг']]\n",
        "# Згрупуємо дані за стовбцем\n",
        "df = df.groupby(['Область']).sum()\n",
        "\n",
        "# Відсортуємо df по стовбцю\n",
        "# df = df.sort_values(by='Обсяг', ascending=False)\n",
        "\n",
        "# Додамо до вже існуючого файлу\n",
        "with pd.ExcelWriter('/content/drive/MyDrive/energy-map/public/aid/temp.xlsx', mode='a') as writer:\n",
        "    df.to_excel(writer, sheet_name='Трансф_силові_відгрузки2')"
      ],
      "metadata": {
        "id": "Gt4124JOtjQk"
      },
      "execution_count": null,
      "outputs": []
    },
    {
      "cell_type": "code",
      "source": [
        "# Трансформатори силові (пріоритетні потреби, за потужністю)\n",
        "df = pd.read_excel('/content/drive/MyDrive/energy-map/public/aid/пріоритетні потреби.xlsx', sheet_name='Лише потрібні категорії', engine='openpyxl')\n",
        "# Залишимо в df лише ті рядки, де в стовбці \"Тип потреби\" значення рівне \"Електростанції (генератори) та обладнання\", і в стовбчику \"Вид потреби\" значення рівне \"Газотурбінні установки\"\n",
        "df = df[df['Вид потреби'].isin([\"Автотрансформатори\", \"Трансформатори силові 10-40 кВ\", \"Трансформатори силові 110-220 кВ\", \"Трансформатори силові до 6 кВ\"])]\n",
        "# Залишимо в df лише такі стовбці\n",
        "df = df[['Вид потреби', 'Загальний обсяг 1 пріоритет', 'Загальний обсяг 2 пріоритет']]\n",
        "# Згрупуємо дані за стовбцями\n",
        "df = df.groupby('Вид потреби').sum()\n",
        "# Додамо до вже існуючого файлу result.xlsx вкладку із даними df (ігноруючи індекси)\n",
        "with pd.ExcelWriter('/content/drive/MyDrive/energy-map/public/aid/temp.xlsx', mode='a') as writer:\n",
        "    df.to_excel(writer, sheet_name='Пріор_Трвнс_силові')"
      ],
      "metadata": {
        "id": "dG9Id73Is3NO"
      },
      "execution_count": null,
      "outputs": []
    },
    {
      "cell_type": "code",
      "source": [
        "# -- Вимірювальні трансформатори (в розрізі категорій)\n",
        "df = pd.read_excel('/content/drive/MyDrive/energy-map/public/aid/aid.xlsx', engine='openpyxl')\n",
        "#Залишимо в df лише ті рядки, де в стовбці \"Зона бойових дій\" значення не дорівнює \"-1\"\n",
        "df = df[df['Зона бойових дій'] != -1]\n",
        "# #Залишимо в df лише ті рядки, де в стовбці \"Зона бойових дій\" значення не порожнє\n",
        "# df = df[df['Зона бойових дій'].notna()]\n",
        "df['Забезпечено загалом'] = df['Загальний обсяг'] - df['Незабезпечена потреба, абс. знач']\n",
        "# Залишимо в df лише ті рядки, де в стовбці \"Вид потреби\" значення рівні такому:\n",
        "df = df[df['Вид потреби'].isin([\"Трансформатори струму та напруги комбіновані (високої напруги)\", \"Трансформатори струму та напруги комбіновані (середньої напруги)\", \"Трансформатори напруги 6-35 кВ\", \"Трансформатори напруги 330 кВ і вище\", \"Трансформатори напруги 110-220 кВ\", \"Трансформатори струму (низької напруги)\", \"Трансформатори струму (середньої напруги)\", \"Трансформатори струму (високої напруги)\"])]\n",
        "# Залишимо в df лише такі стовбці\n",
        "df = df[['Вид потреби', 'Загальний обсяг', 'Забезпечено загалом', 'Незабезпечена потреба, абс. знач']]\n",
        "# Згрупуємо df по стовбцях\n",
        "df = df.groupby(['Вид потреби']).sum()\n",
        "# Відсортуємо df по стовбцю 'Загальний обсяг' (від найбільшого до найменшого)\n",
        "df = df.sort_values(by='Загальний обсяг', ascending=False)\n",
        "# Додамо до вже існуючого файлу\n",
        "with pd.ExcelWriter('/content/drive/MyDrive/energy-map/public/aid/temp.xlsx', mode='a') as writer:\n",
        "    df.to_excel(writer, sheet_name='Трансф_вимір')"
      ],
      "metadata": {
        "id": "7JjDhs9LnazW"
      },
      "execution_count": null,
      "outputs": []
    },
    {
      "cell_type": "code",
      "source": [
        "# -- Вимірювальні трансформатори (в розрізі областей)\n",
        "df = pd.read_excel('/content/drive/MyDrive/energy-map/public/aid/aid.xlsx', engine='openpyxl')\n",
        "#Залишимо в df лише ті рядки, де в стовбці \"Зона бойових дій\" значення не дорівнює \"-1\"\n",
        "df = df[df['Зона бойових дій'] != -1]\n",
        "# #Залишимо в df лише ті рядки, де в стовбці \"Зона бойових дій\" значення не порожнє\n",
        "# df = df[df['Зона бойових дій'].notna()]\n",
        "df['Забезпечено загалом'] = df['Загальний обсяг'] - df['Незабезпечена потреба, абс. знач']\n",
        "# Залишимо в df лише ті рядки, де в стовбці \"Вид потреби\" значення рівні такому:\n",
        "df = df[df['Вид потреби'].isin([\"Трансформатори струму та напруги комбіновані (високої напруги)\", \"Трансформатори струму та напруги комбіновані (середньої напруги)\", \"Трансформатори напруги 6-35 кВ\", \"Трансформатори напруги 330 кВ і вище\", \"Трансформатори напруги 110-220 кВ\", \"Трансформатори струму (низької напруги)\", \"Трансформатори струму (середньої напруги)\", \"Трансформатори струму (високої напруги)\"])]\n",
        "# Залишимо в df лише такі стовбці\n",
        "df = df[['Область', 'Загальний обсяг', 'Забезпечено загалом', 'Незабезпечена потреба, абс. знач']]\n",
        "# Згрупуємо df по стовбцях\n",
        "df = df.groupby(['Область']).sum()\n",
        "# Відсортуємо df по стовбцю 'Загальний обсяг' (від найбільшого до найменшого)\n",
        "df = df.sort_values(by='Загальний обсяг', ascending=False)\n",
        "# Додамо до вже існуючого файлу\n",
        "with pd.ExcelWriter('/content/drive/MyDrive/energy-map/public/aid/temp.xlsx', mode='a') as writer:\n",
        "    df.to_excel(writer, sheet_name='Трансф_вимір1')"
      ],
      "metadata": {
        "id": "JHyRy0-Qplew"
      },
      "execution_count": null,
      "outputs": []
    },
    {
      "cell_type": "code",
      "source": [
        "# -- Вимірювальні трансформатори (ТОП5 з областями)\n",
        "df = pd.read_excel('/content/drive/MyDrive/energy-map/public/aid/aid.xlsx', engine='openpyxl')\n",
        "#Залишимо в df лише ті рядки, де в стовбці \"Зона бойових дій\" значення не дорівнює \"-1\"\n",
        "df = df[df['Зона бойових дій'] != -1]\n",
        "# #Залишимо в df лише ті рядки, де в стовбці \"Зона бойових дій\" значення не порожнє\n",
        "# df = df[df['Зона бойових дій'].notna()]\n",
        "df['Забезпечено загалом'] = df['Загальний обсяг'] - df['Незабезпечена потреба, абс. знач']\n",
        "# Залишимо в df лише ті рядки, де в стовбці \"Вид потреби\" значення рівні такому:\n",
        "df = df[df['Вид потреби'].isin([\"Трансформатори струму та напруги комбіновані (високої напруги)\", \"Трансформатори струму та напруги комбіновані (середньої напруги)\", \"Трансформатори напруги 6-35 кВ\", \"Трансформатори напруги 330 кВ і вище\", \"Трансформатори напруги 110-220 кВ\", \"Трансформатори струму (низької напруги)\", \"Трансформатори струму (середньої напруги)\", \"Трансформатори струму (високої напруги)\"])]\n",
        "# Залишимо в df лише такі стовбці\n",
        "df = df[['Назва  Набувача', 'Область', 'Загальний обсяг', 'Незабезпечена потреба, абс. знач']]\n",
        "# Згрупуємо дані за стовбцем\n",
        "df = df.groupby(['Назва  Набувача', 'Область']).sum()\n",
        "# Відсортуємо df по стовбцю 'Загальний обсяг' (від найбільшого до найменшого)\n",
        "df = df.sort_values(by='Загальний обсяг', ascending=False)\n",
        "# Залишимо лише 5 перших рядків\n",
        "df = df.head(5)\n",
        "# Додамо до вже існуючого файлу\n",
        "with pd.ExcelWriter('/content/drive/MyDrive/energy-map/public/aid/temp.xlsx', mode='a') as writer:\n",
        "    df.to_excel(writer, sheet_name='Трансф_вимір2')"
      ],
      "metadata": {
        "id": "3btBDpN1qHZS"
      },
      "execution_count": null,
      "outputs": []
    },
    {
      "cell_type": "code",
      "source": [
        "# -- Вимірювальні трансформатори (ТОП5 невдах з областями)\n",
        "df = pd.read_excel('/content/drive/MyDrive/energy-map/public/aid/aid.xlsx', engine='openpyxl')\n",
        "#Залишимо в df лише ті рядки, де в стовбці \"Зона бойових дій\" значення не дорівнює \"-1\"\n",
        "df = df[df['Зона бойових дій'] != -1]\n",
        "# #Залишимо в df лише ті рядки, де в стовбці \"Зона бойових дій\" значення не порожнє\n",
        "# df = df[df['Зона бойових дій'].notna()]\n",
        "df['Забезпечено загалом'] = df['Загальний обсяг'] - df['Незабезпечена потреба, абс. знач']\n",
        "# Залишимо в df лише ті рядки, де в стовбці \"Вид потреби\" значення рівні такому:\n",
        "df = df[df['Вид потреби'].isin([\"Трансформатори струму та напруги комбіновані (високої напруги)\", \"Трансформатори струму та напруги комбіновані (середньої напруги)\", \"Трансформатори напруги 6-35 кВ\", \"Трансформатори напруги 330 кВ і вище\", \"Трансформатори напруги 110-220 кВ\", \"Трансформатори струму (низької напруги)\", \"Трансформатори струму (середньої напруги)\", \"Трансформатори струму (високої напруги)\"])]\n",
        "# Залишимо в df лише такі стовбці\n",
        "df = df[['Назва  Набувача', 'Область', 'Загальний обсяг', 'Незабезпечена потреба, абс. знач']]\n",
        "# Згрупуємо дані за стовбцем\n",
        "df = df.groupby(['Назва  Набувача', 'Область']).sum()\n",
        "# Відсортуємо df по стовбцю 'Загальний обсяг' (від найбільшого до найменшого)\n",
        "df = df.sort_values(by='Незабезпечена потреба, абс. знач', ascending=False)\n",
        "# Залишимо лише 5 перших рядків\n",
        "df = df.head(5)\n",
        "# Додамо до вже існуючого файлу\n",
        "with pd.ExcelWriter('/content/drive/MyDrive/energy-map/public/aid/temp.xlsx', mode='a') as writer:\n",
        "    df.to_excel(writer, sheet_name='Трансф_вимір3')"
      ],
      "metadata": {
        "id": "LWm7iYhzpvxP"
      },
      "execution_count": null,
      "outputs": []
    },
    {
      "cell_type": "code",
      "source": [
        "# Трансформатори вимірювальні (ті що відправлені без потреби, в розрізі категорій)\n",
        "df = pd.read_excel('/content/drive/MyDrive/energy-map/public/aid/aid.xlsx', sheet_name=\"Відгрузки\", engine='openpyxl')\n",
        "# В df залишимо лише ті рядки в яких в стовбчику \"ID Позиції\" значення або \"PT100001\" або порожнє значення\n",
        "df = df[(df['ID Позиції'] == 'PT100001') | (df['ID Позиції'].isnull())]\n",
        "#Залишимо в df лише ті рядки, де в стовбці \"Зона бойових дій\" значення не дорівнює \"-1\"\n",
        "df = df[df['Зона бойових дій'] != -1]\n",
        "# Залишимо в df лише ті рядки\n",
        "df = df[df['Вид потреби'].isin([\"Трансформатори струму та напруги комбіновані (високої напруги)\", \"Трансформатори струму та напруги комбіновані (середньої напруги)\", \"Трансформатори напруги 6-35 кВ\", \"Трансформатори напруги 330 кВ і вище\", \"Трансформатори напруги 110-220 кВ\", \"Трансформатори струму (низької напруги)\", \"Трансформатори струму (середньої напруги)\", \"Трансформатори струму (високої напруги)\"])]\n",
        "# Залишимо в df лише такі стовбці\n",
        "df = df[['Вид потреби', 'Обсяг']]\n",
        "# Згрупуємо дані за стовбцем\n",
        "df = df.groupby(['Вид потреби']).sum()\n",
        "\n",
        "# Відсортуємо df по стовбцю\n",
        "# df = df.sort_values(by='Обсяг', ascending=False)\n",
        "\n",
        "# Додамо до вже існуючого файлу\n",
        "with pd.ExcelWriter('/content/drive/MyDrive/energy-map/public/aid/temp.xlsx', mode='a') as writer:\n",
        "    df.to_excel(writer, sheet_name='Трансф_вимір_відгрузки')"
      ],
      "metadata": {
        "id": "TH-eKEmn42nC"
      },
      "execution_count": null,
      "outputs": []
    },
    {
      "cell_type": "code",
      "source": [
        "# Трансформатори вимірювальні (ті що відправлені без потреби, в розрізі областей)\n",
        "df = pd.read_excel('/content/drive/MyDrive/energy-map/public/aid/aid.xlsx', sheet_name=\"Відгрузки\", engine='openpyxl')\n",
        "# В df залишимо лише ті рядки в яких в стовбчику \"ID Позиції\" значення або \"PT100001\" або порожнє значення\n",
        "df = df[(df['ID Позиції'] == 'PT100001') | (df['ID Позиції'].isnull())]\n",
        "#Залишимо в df лише ті рядки, де в стовбці \"Зона бойових дій\" значення не дорівнює \"-1\"\n",
        "df = df[df['Зона бойових дій'] != -1]\n",
        "# Залишимо в df лише ті рядки\n",
        "df = df[df['Вид потреби'].isin([\"Трансформатори струму та напруги комбіновані (високої напруги)\", \"Трансформатори струму та напруги комбіновані (середньої напруги)\", \"Трансформатори напруги 6-35 кВ\", \"Трансформатори напруги 330 кВ і вище\", \"Трансформатори напруги 110-220 кВ\", \"Трансформатори струму (низької напруги)\", \"Трансформатори струму (середньої напруги)\", \"Трансформатори струму (високої напруги)\"])]\n",
        "# Залишимо в df лише такі стовбці\n",
        "df = df[['Область', 'Обсяг']]\n",
        "# Згрупуємо дані за стовбцем\n",
        "df = df.groupby(['Область']).sum()\n",
        "\n",
        "# Відсортуємо df по стовбцю\n",
        "# df = df.sort_values(by='Обсяг', ascending=False)\n",
        "\n",
        "# Додамо до вже існуючого файлу\n",
        "with pd.ExcelWriter('/content/drive/MyDrive/energy-map/public/aid/temp.xlsx', mode='a') as writer:\n",
        "    df.to_excel(writer, sheet_name='Трансф_вимір_відгрузки1')"
      ],
      "metadata": {
        "id": "w1EEe9xp5HMM"
      },
      "execution_count": null,
      "outputs": []
    },
    {
      "cell_type": "code",
      "source": [
        "# Трансформатори вимірювальні (пріоритетні потреби, за потужністю)\n",
        "df = pd.read_excel('/content/drive/MyDrive/energy-map/public/aid/пріоритетні потреби.xlsx', sheet_name='Лише потрібні категорії', engine='openpyxl')\n",
        "# Залишимо в df лише ті рядки, де в стовбці \"Тип потреби\" значення рівне \"Електростанції (генератори) та обладнання\", і в стовбчику \"Вид потреби\" значення рівне \"Газотурбінні установки\"\n",
        "df = df[df['Вид потреби'].isin([\"Трансформатори струму та напруги комбіновані (високої напруги)\", \"Трансформатори струму та напруги комбіновані (середньої напруги)\", \"Трансформатори напруги 6-35 кВ\", \"Трансформатори напруги 330 кВ і вище\", \"Трансформатори напруги 110-220 кВ\", \"Трансформатори струму (низької напруги)\", \"Трансформатори струму (середньої напруги)\", \"Трансформатори струму (високої напруги)\"])]\n",
        "# Залишимо в df лише такі стовбці\n",
        "df = df[['Вид потреби', 'Загальний обсяг 1 пріоритет', 'Загальний обсяг 2 пріоритет']]\n",
        "# Згрупуємо дані за стовбцями\n",
        "df = df.groupby('Вид потреби').sum()\n",
        "# Додамо до вже існуючого файлу result.xlsx вкладку із даними df (ігноруючи індекси)\n",
        "with pd.ExcelWriter('/content/drive/MyDrive/energy-map/public/aid/temp.xlsx', mode='a') as writer:\n",
        "    df.to_excel(writer, sheet_name='Пріор_Трвнс_вимір')"
      ],
      "metadata": {
        "id": "MacilEC65VvO"
      },
      "execution_count": null,
      "outputs": []
    },
    {
      "cell_type": "code",
      "source": [
        "# -- ТОП категорії\n",
        "df = pd.read_excel('/content/drive/MyDrive/energy-map/public/aid/aid.xlsx', engine='openpyxl')\n",
        "df = df[['Тип потреби']]\n",
        "# Додамо стовбчик \"Кількість\"\n",
        "df['Кількість'] = 1\n",
        "# Згрупуємо по типу потреби\n",
        "df = df.groupby('Тип потреби').sum()\n",
        "# Відсортуємо df по стовбцю\n",
        "df = df.sort_values(by='Кількість', ascending=False)\n",
        "# Додамо до вже існуючого файлу\n",
        "with pd.ExcelWriter('/content/drive/MyDrive/energy-map/public/aid/temp.xlsx', mode='a') as writer:\n",
        "    df.to_excel(writer, sheet_name='TOP cat0')"
      ],
      "metadata": {
        "id": "yJcaSP3o6w_-"
      },
      "execution_count": null,
      "outputs": []
    },
    {
      "cell_type": "code",
      "source": [
        "# -- ТОП категорії в розрізі сфер\n",
        "df = pd.read_excel('/content/drive/MyDrive/energy-map/public/aid/aid.xlsx', engine='openpyxl')\n",
        "#Залишимо в df лише ті рядки, де в стовбці \"Зона бойових дій\" значення не дорівнює \"-1\"\n",
        "df = df[df['Зона бойових дій'] != -1]\n",
        "# #Залишимо в df лише ті рядки, де в стовбці \"Зона бойових дій\" значення не порожнє\n",
        "# df = df[df['Зона бойових дій'].notna()]\n",
        "# Залишимо в df лише ті рядки, де в стовбці \"Вид потреби\" значення рівні такому:\n",
        "df = df[df['Вид потреби'].isin([\"-------\"])]"
      ],
      "metadata": {
        "id": "Vtea9EbN89ch"
      },
      "execution_count": null,
      "outputs": []
    },
    {
      "cell_type": "code",
      "source": [
        "df = pd.read_excel('/content/drive/MyDrive/energy-map/public/aid/aid_new.xlsx', sheet_name=\"Відгрузки\", engine='openpyxl', converters={'ЄДРПОУ': str, 'ЄДРПОУ філії': str})\n",
        "# Додамо до вже існуючого файлу\n",
        "with pd.ExcelWriter('/content/drive/MyDrive/energy-map/public/aid/aid.xlsx', mode='a') as writer:\n",
        "    df.to_excel(writer, sheet_name='from_aid_new_Відгрузки')"
      ],
      "metadata": {
        "id": "TExKtZKR6i5Z"
      },
      "execution_count": null,
      "outputs": []
    },
    {
      "cell_type": "code",
      "source": [
        "# Беремо з вкладок \"Потреби\" і \"Набувачі\" та переносимо у вкладку \"Відгрузки\" такі стовбчики: \"Тип потреби\"\t\"Вид потреби\tСфера діяльності\"\n",
        "# \"Вид діяльності\"\t\"Область\"\t\"Зона бойових дій\"\t\"Власність\"\t\"Одиниця вимірювання\"\t\"Загальний обсяг\" \"Забезпечено\".\n",
        "# Для відгрузок з ID Позиції порожніми або PT100001 Тип потреби і Вид потреби робимо вручну, або якось по іншому\n",
        "df_aid = pd.read_excel('/content/drive/MyDrive/energy-map/public/aid/aid.xlsx', sheet_name=\"Відгрузки\", engine='openpyxl', converters={'ЄДРПОУ': str, 'ЄДРПОУ філії': str})\n",
        "df_aid_potreby = pd.read_excel('/content/drive/MyDrive/energy-map/public/aid/aid.xlsx', sheet_name=\"Потреби\", engine='openpyxl', converters={'ЄДРПОУ  Набувача': str, 'ЄДРПОУ філії': str})\n",
        "df_aid_nabuvachi = pd.read_excel('/content/drive/MyDrive/energy-map/public/aid/aid.xlsx', sheet_name=\"Набувачі\", engine='openpyxl', converters={'ЄДРПОУ  Набувача': str, 'ЄДРПОУ': str})\n",
        "\n",
        "# Порівняємо df_aid_potreby і df_aid по стовбцю \"ID Позиції\" і якщо вони співпадають, то в df_aid в стовбчик \"Тип потреби\" внесемо значення з df_vidgruzky в стовбчик \"Тип потреби\"\n",
        "df_aid.loc[df_aid['ID Позиції'].isin(df_aid_potreby['ID Позиції']), 'Тип потреби1'] = df_aid_potreby['Тип потреби']\n",
        "df_aid.loc[df_aid['ID Позиції'].isin(df_aid_potreby['ID Позиції']), 'Вид потреби1'] = df_aid_potreby['Вид потреби']\n",
        "#Сфера діяльності\n",
        "df_aid.loc[df_aid['ЄДРПОУ'].isin(df_aid_nabuvachi['ЄДРПОУ']), 'Сфера діяльності'] = df_aid_nabuvachi['Сфера діяльності']\n",
        "#Вид діяльності\n",
        "df_aid.loc[df_aid['ЄДРПОУ'].isin(df_aid_nabuvachi['ЄДРПОУ']), 'Вид діяльності'] = df_aid_nabuvachi['Вид діяльності']\n",
        "#Область\n",
        "df_aid.loc[df_aid['ЄДРПОУ'].isin(df_aid_nabuvachi['ЄДРПОУ']), 'Область'] = df_aid_nabuvachi['Область']\n",
        "#Зона бойових дій\n",
        "df_aid.loc[df_aid['ЄДРПОУ'].isin(df_aid_nabuvachi['ЄДРПОУ']), 'Зона бойових дій'] = df_aid_nabuvachi['Зона бойових дій']\n",
        "#Власність\n",
        "df_aid.loc[df_aid['ЄДРПОУ'].isin(df_aid_nabuvachi['ЄДРПОУ']), 'Власність'] = df_aid_nabuvachi['Власність']\n",
        "#Одиниця вимірювання\n",
        "df_aid.loc[df_aid['ID Позиції'].isin(df_aid_potreby['ID Позиції']), 'Одиниця вимірювання'] = df_aid_potreby['Одиниця вимірювання']\n",
        "#Загальний обсяг\n",
        "df_aid.loc[df_aid['ID Позиції'].isin(df_aid_potreby['ID Позиції']), 'Загальний обсяг'] = df_aid_potreby['Загальний обсяг']\n",
        "#Забезпечено\n",
        "df_aid.loc[df_aid['ID Позиції'].isin(df_aid_potreby['ID Позиції']), 'Забезпечено'] = df_aid_potreby['Забезпечено']\n",
        "# Якщо в df_aid в стовбчику 'Тип потреби' значення порожнє, то вставляємо  туди значення з стовбчика 'Тип потреби1'\n",
        "df_aid['Тип потреби'] = df_aid['Тип потреби'].fillna(df_aid['Тип потреби1'])\n",
        "df_aid['Вид потреби'] = df_aid['Вид потреби'].fillna(df_aid['Вид потреби1'])\n",
        "# Видаляємо стовбчики 'Тип потреби1' та 'Вид потреби1'\n",
        "df_aid = df_aid.drop(['Тип потреби1', 'Вид потреби1'], axis=1)\n",
        "\n",
        "\n",
        "# Додамо до вже існуючого файлу\n",
        "with pd.ExcelWriter('/content/drive/MyDrive/energy-map/public/aid/aid.xlsx', mode='a') as writer:\n",
        "    df_aid.to_excel(writer, sheet_name='Відгрузки2')"
      ],
      "metadata": {
        "id": "ljBfTPDUWdOn"
      },
      "execution_count": null,
      "outputs": []
    },
    {
      "cell_type": "code",
      "source": [
        "# -- Свіжоскачаний файл energoAid просто перепишемо в файл temp.xlsx додавши до листа \"Потреби\"\n",
        "# з листа \"Набувачі\" стовбчики \"Сфера діяльності\", \"Вид діяльності\", \"Область\", \"Зона бойових дій\", \"Власність\"\n",
        "# Відкриємо  файл (всі листи). Стовбчики \"\"ЄДРПОУ  Набувача\"\", \"ЄДРПОУ\" та \"ЄДРПОУ філії\" конвертуємо в текст\n",
        "df = pd.read_excel('/content/drive/MyDrive/energy-map/public/aid/Energo-Aid 0.5.xlsx', sheet_name=None, engine='openpyxl', converters={'ЄДРПОУ  Набувача': str, 'ЄДРПОУ філії': str, 'ЄДРПОУ': str})\n",
        "# # В листі потреби перейменуємо Заголовок стовбчика \"ЄДРПОУ  Набувача\" на \"ЄДРПОУ\"\n",
        "# df['Потреби'].rename(columns={'ЄДРПОУ  Набувача': 'ЄДРПОУ'}, inplace=True)\n",
        "# # В стовбчик \"Сфера діяльності\" (лист \"Потреби\") помістимо значення з стовбчика \"Сфера діяльності\" (лист \"Набувачі\") (коли в них співпадає значення стовбчика \"ЄДРПОУ)\n",
        "# df['Потреби']['Сфера діяльності'] = df['Потреби'].apply(lambda row: df['Набувачі'][df['Набувачі']['ЄДРПОУ'] == row['ЄДРПОУ']]['Сфера діяльності'].values[0] if row['ЄДРПОУ'] in df['Набувачі']['ЄДРПОУ'].values else '', axis=1)\n",
        "# # Те саме тільки для стовбчика \"Вид діяльності\" (замість \"Сфера діяльності\" вище)\n",
        "# df['Потреби']['Вид діяльності'] = df['Потреби'].apply(lambda row: df['Набувачі'][df['Набувачі']['ЄДРПОУ'] == row['ЄДРПОУ']]['Вид діяльності'].values[0] if row['ЄДРПОУ'] in df['Набувачі']['ЄДРПОУ'].values else '', axis=1)\n",
        "# # Те саме тільки для стовбчика \"Область\"\n",
        "# df['Потреби']['Область'] = df['Потреби'].apply(lambda row: df['Набувачі'][df['Набувачі']['ЄДРПОУ'] == row['ЄДРПОУ']]['Область'].values[0] if row['ЄДРПОУ'] in df['Набувачі']['ЄДРПОУ'].values else '', axis=1)\n",
        "# # Те саме тільки для стовбчика \"Зона бойових дій\"\n",
        "# df['Потреби']['Зона бойових дій'] = df['Потреби'].apply(lambda row: df['Набувачі'][df['Набувачі']['ЄДРПОУ'] == row['ЄДРПОУ']]['Зона бойових дій'].values[0] if row['ЄДРПОУ'] in df['Набувачі']['ЄДРПОУ'].values else '', axis=1)\n",
        "# # Те саме тільки для стовбчика \"Власність\"\n",
        "# df['Потреби']['Власність'] = df['Потреби'].apply(lambda row: df['Набувачі'][df['Набувачі']['ЄДРПОУ'] == row['ЄДРПОУ']]['Власність'].values[0] if row['ЄДРПОУ'] in df['Набувачі']['ЄДРПОУ'].values else '', axis=1)\n",
        "# # В листі потреби перейменуємо Заголовок стовбчика \"ЄДРПОУ\" на \"ЄДРПОУ  Набувача\"\n",
        "# df['Потреби'].rename(columns={'ЄДРПОУ': 'ЄДРПОУ  Набувача'}, inplace=True)\n",
        "with pd.ExcelWriter('/content/drive/MyDrive/energy-map/public/aid/aid.xlsx') as writer:\n",
        "    for sheet_name, df_sheet in df.items():\n",
        "        df_sheet.to_excel(writer, sheet_name=sheet_name, index=False)"
      ],
      "metadata": {
        "id": "3iS4uQlwc5Iw"
      },
      "execution_count": null,
      "outputs": []
    },
    {
      "cell_type": "code",
      "source": [
        "# Найважливіші види запитів Підрахунок кількості запитів в розрізі областей і задоволення потреб\n",
        "df = pd.read_excel('/content/drive/MyDrive/energy-map/public/aid/aid.xlsx', sheet_name=\"Потреби\", engine='openpyxl')\n",
        "#Залишимо в df лише ті рядки, де в стовбці \"Зона бойових дій\" значення не дорівнює \"-1\"\n",
        "df = df[df['Зона бойових дій'] != -1]\n",
        "\n",
        "df = df[df['Вид потреби'].isin([\"Засоби телекомунікації та телемеханіки\", \"Комп'ютери та ноутбуки\", \"Автовишки (автопiдйомники з люлькою)\", \"Автокрани\", \"Автомобілі бригадні вантажо-пасажирські\", \"Автомобілі для перевезення залізобетонних опор (опоровози)\", \"Автомобілі з маніпулятором\", \"Автомобілі самоскиди\", \"Автомобілі тягачі\", \"Автонавантажувачі\", \"Автопідйомники\", \"Автотранспорт (інше)\", \"Бурильно-кранові машини\", \"Екскаватори\", \"Електротехнічні лабораторії\", \"Трактори\", \"Причіпи автомобільні\", \"Спецтехніка (інше)\", \"Арматура запірна\", \"Арматура інша\", \"Арматура лінійна\", \"Арматура СІП\", \"Арматура нафтогазова\", \"Затискачі електричні з'єднувальні і натяжні (лінійні та апаратні)\", \"Муфти\", \"Наконечники алюмінієві\", \"Наконечники мідні\", \"Термічні клапани\", \"Траверси\", \"Вводи вимикачів\", \"Вимикачі автоматичні\", \"Вимикачі вакуумні\", \"Вимикачі елегазові\", \"Вимикачі повітрянні\", \"Вимикачі оливні\", \"Інше обладнання для вимикачів\", \"Камери дугогасіння\", \"Обладнання для елегазових вимикачів\", \"Перемикачі\", \"Роз'єднувачі\", \"Реклоузери\", \"Рубильники\", \"Гідравлічні двигуни\", \"Електродвигуни < 10 кВт\", \"Електродвигуни 11-110 кВт\", \"Електродвигуни > 110 кВт\", \"Двигуни (інше)\", \"Акумуляторні батареї\", \"Джерела безперебійного живлення\", \"<10 кВт\", \"10-30 кВт\", \"30-100 кВт\", \"100-300 кВт\", \"300-500 кВт\", \"500-700 кВт\", \"700-1000 кВт\", \"1000-1500 кВт\", \"1500-2000 кВт\", \">2000 кВт\", \"Генератори (запчастини, сервісні, ремонтні комплекти, інше)\", \"Запчастини\", \"Інвертори\", \"Інші засоби та обладнання\", \"Котельне обладнання\", \"Машини реверсивні\", \"Металошукачі\", \"Обладнання для вітрових електростанцій\", \"Обладнання для газових мереж\", \"Обладнання для сонячних електростанцій\", \"Обладнання для шахт\", \"Освітлювальні пристрої\", \"Регулятор тиску газу\", \"Трасошукачі газові\", \"Ізолятори\", \"Ізолятори підвісні\", \"Інша кабельна продукція\", \"Кабель з'єднувальний\", \"Кабель контрольний\", \"Кабель силовий < 0,4 кВ\", \"Кабель силовий 0,4-1 кВ\", \"Кабель силовий 6-35 кВ\", \"Кабель силовий > 110 кВ\", \"Провід ізольований\", \"Провід неізольований\", \"Провід самонесучий ізольований (СІП)\", \"Компресори (інші)\", \"Компресори підстанційні\", \"Інші матеріали\", \"Матеріали для ремонту газорозподільчої мережі\", \"Матеріали для ремонту електромережі\", \"Матеріали зі сталі\", \"Заземлювачі нейтралі\", \"Комплекти тимчасасового заземлення\", \"Матеріали з дерева\", \"Провід\", \"Стрічка конвеєрна\", \"Трос грозозахисний\", \"Троси металеві\", \"Шини електричні\", \"Домкрати\", \"Інші механізми\", \"Машини для натяжки проводу та тросу\", \"Механізми спеціальні\", \"Насос різного призначення\", \"Преси гідравлічні\", \"Високочастотні обмежувачі\", \"Обмежувачі перенапруг\", \"Розрядники\", \"Оливи автомобільні\", \"Оливи інші\", \"Оливи трансформаторні\", \"Обладнання до опор\", \"Опори дерев'янні\", \"Опори залізобетонні\", \"Опори інші\", \"Опори металеві\", \"Бензин\", \"Газ\", \"Дизель\", \"Паливо для електростанцій\", \"Вимірювальні прилади\", \"Інші прилади обліку\", \"Лічильники\", \"Газорегуляторні пункти\", \"Реактори\", \"Комплектний розподільний пристрій (КРП)\", \"Інше обладнання релейного захисту та автоматики\", \"Автотрансформатори\", \"Вводи трансформаторні\", \"Інше трансформаторне обладнання\", \"Мобільні підстанції\", \"Трансформатори блочні\", \"Трансформатори напруги 6-35 кВ\", \"Трансформатори напруги 110-220 кВ\", \"Трансформатори напруги 330 кВ і вище\", \"Трансформаторні підстанції середньої напруги\", \"Трансформаторні підстанції високої напруги\", \"Трансформатори регулюючі\", \"Трансформатори силові до 6 кВ\", \"Трансформатори силові 10-40 кВ\", \"Трансформатори силові 110-220 кВ\", \"Трансформатори силові 330 кВ і вище\", \"Трансформатори струму (низької напруги)\", \"Трансформатори струму (середньої напруги)\", \"Трансформатори струму (високої напруги)\", \"Трансформатори струму та напруги комбіновані (середньої напруги)\", \"Трансформатори струму та напруги комбіновані (високої напруги)\", \"Труби для прокладання кабелю\", \"Трубна продукція\", \"Газотурбінні установки\", \"Парові турбіни\", \"Турбіни\", \"Інше турбогенераторне обладнання\", \"Блочний щит керування\", \"Мобільні приміщення\", \"Шафи та ящики\", \"Щити керування\"])]\n",
        "\n",
        "# Якщо в стовбчику \"Виконання, %\" значення >100, то замінимо його на 100\n",
        "df.loc[df['Виконання, %'] > 100, 'Виконання, %'] = 100\n",
        "# Додамо стовбчик \"Кількість потреб\" з значеннями 1\n",
        "df['Кількість потреб'] = 1\n",
        "\n",
        "\n",
        "####---------\n",
        "# В датафрейм df_two запишемо рядки з df, де значення стовбчика \"Назва  Набувача\" дорівнює 'ПрАТ \"ДОНЕЦЬКОБЛГАЗ\"' або 'ПрАТ \"ТЕРНОПІЛЬГАЗ\"'\n",
        "df_two = df[(df['Назва  Набувача'] == 'ПрАТ \"ДОНЕЦЬКОБЛГАЗ\"') | (df['Назва  Набувача'] == 'ПрАТ \"ТЕРНОПІЛЬГАЗ\"')]\n",
        "# В датафреймі df видалимо рядки, де значення стовбчика \"Назва  Набувача\" дорівнює 'ПрАТ \"ДОНЕЦЬКОБЛГАЗ\"' або 'ПрАТ \"ТЕРНОПІЛЬГАЗ\"'\n",
        "df = df.drop(df[(df['Назва  Набувача'] == 'ПрАТ \"ДОНЕЦЬКОБЛГАЗ\"') | (df['Назва  Набувача'] == 'ПрАТ \"ТЕРНОПІЛЬГАЗ\"')].index)\n",
        "\n",
        "# Залишимо такі стовбчики\n",
        "df = df[['Область', 'Кількість потреб', 'Виконання, %']]\n",
        "df_two = df_two[['Повне найменування потреби', 'Область', 'Кількість потреб', 'Виконання, %']]\n",
        "\n",
        "# Згрупуємо по областях ('Кількість потреб', і 'Виконання, %' візьмемо середнє значення, це прибере однакові назви товарів, але при цьому кількість потреб не зміниться, бо воно не сумуалось)\n",
        "df_two = df_two.groupby(['Область', 'Повне найменування потреби']).agg({'Кількість потреб': 'mean', 'Виконання, %': 'mean'}).reset_index()\n",
        "# Залишимо такі стовбчики\n",
        "df_two = df_two[['Область', 'Кількість потреб', 'Виконання, %']]\n",
        "df_two = df_two.groupby('Область').agg({'Кількість потреб': 'sum', 'Виконання, %': 'mean'}).reset_index()\n",
        "# Згрупуємо по областях (підсумуємо 'Кількість потреб', а 'Виконання, %' візьмемо середнє значення)\n",
        "df = df.groupby('Область').agg({'Кількість потреб': 'sum', 'Виконання, %': 'mean'}).reset_index()\n",
        "# об'єднаємо df_two і df\n",
        "df = pd.concat([df, df_two], ignore_index=True)\n",
        "####-----\n",
        "\n",
        "\n",
        "# Відсортуємо df по стовбцю 'Загальний обсяг' (від найбільшого до найменшого)\n",
        "df = df.sort_values(by='Кількість потреб', ascending=False)\n",
        "# Додамо до вже існуючого файлу\n",
        "with pd.ExcelWriter('/content/drive/MyDrive/energy-map/public/aid/temp.xlsx', mode='a') as writer:\n",
        "    df.to_excel(writer, sheet_name='ТОП потреби2')"
      ],
      "metadata": {
        "id": "LpLTShdOTJjh"
      },
      "execution_count": null,
      "outputs": []
    },
    {
      "cell_type": "code",
      "source": [
        "# Найважливіші види запитів Підрахунок кількості запитів в розрізі сфер діяльності і задоволення потреб\n",
        "df = pd.read_excel('/content/drive/MyDrive/energy-map/public/aid/aid.xlsx', sheet_name=\"Потреби\", engine='openpyxl')\n",
        "#Залишимо в df лише ті рядки, де в стовбці \"Зона бойових дій\" значення не дорівнює \"-1\"\n",
        "df = df[df['Зона бойових дій'] != -1]\n",
        "\n",
        "df = df[df['Вид потреби'].isin([\"Засоби телекомунікації та телемеханіки\", \"Комп'ютери та ноутбуки\", \"Автовишки (автопiдйомники з люлькою)\", \"Автокрани\", \"Автомобілі бригадні вантажо-пасажирські\", \"Автомобілі для перевезення залізобетонних опор (опоровози)\", \"Автомобілі з маніпулятором\", \"Автомобілі самоскиди\", \"Автомобілі тягачі\", \"Автонавантажувачі\", \"Автопідйомники\", \"Автотранспорт (інше)\", \"Бурильно-кранові машини\", \"Екскаватори\", \"Електротехнічні лабораторії\", \"Трактори\", \"Причіпи автомобільні\", \"Спецтехніка (інше)\", \"Арматура запірна\", \"Арматура інша\", \"Арматура лінійна\", \"Арматура СІП\", \"Арматура нафтогазова\", \"Затискачі електричні з'єднувальні і натяжні (лінійні та апаратні)\", \"Муфти\", \"Наконечники алюмінієві\", \"Наконечники мідні\", \"Термічні клапани\", \"Траверси\", \"Вводи вимикачів\", \"Вимикачі автоматичні\", \"Вимикачі вакуумні\", \"Вимикачі елегазові\", \"Вимикачі повітрянні\", \"Вимикачі оливні\", \"Інше обладнання для вимикачів\", \"Камери дугогасіння\", \"Обладнання для елегазових вимикачів\", \"Перемикачі\", \"Роз'єднувачі\", \"Реклоузери\", \"Рубильники\", \"Гідравлічні двигуни\", \"Електродвигуни < 10 кВт\", \"Електродвигуни 11-110 кВт\", \"Електродвигуни > 110 кВт\", \"Двигуни (інше)\", \"Акумуляторні батареї\", \"Джерела безперебійного живлення\", \"<10 кВт\", \"10-30 кВт\", \"30-100 кВт\", \"100-300 кВт\", \"300-500 кВт\", \"500-700 кВт\", \"700-1000 кВт\", \"1000-1500 кВт\", \"1500-2000 кВт\", \">2000 кВт\", \"Генератори (запчастини, сервісні, ремонтні комплекти, інше)\", \"Запчастини\", \"Інвертори\", \"Інші засоби та обладнання\", \"Котельне обладнання\", \"Машини реверсивні\", \"Металошукачі\", \"Обладнання для вітрових електростанцій\", \"Обладнання для газових мереж\", \"Обладнання для сонячних електростанцій\", \"Обладнання для шахт\", \"Освітлювальні пристрої\", \"Регулятор тиску газу\", \"Трасошукачі газові\", \"Ізолятори\", \"Ізолятори підвісні\", \"Інша кабельна продукція\", \"Кабель з'єднувальний\", \"Кабель контрольний\", \"Кабель силовий < 0,4 кВ\", \"Кабель силовий 0,4-1 кВ\", \"Кабель силовий 6-35 кВ\", \"Кабель силовий > 110 кВ\", \"Провід ізольований\", \"Провід неізольований\", \"Провід самонесучий ізольований (СІП)\", \"Компресори (інші)\", \"Компресори підстанційні\", \"Інші матеріали\", \"Матеріали для ремонту газорозподільчої мережі\", \"Матеріали для ремонту електромережі\", \"Матеріали зі сталі\", \"Заземлювачі нейтралі\", \"Комплекти тимчасасового заземлення\", \"Матеріали з дерева\", \"Провід\", \"Стрічка конвеєрна\", \"Трос грозозахисний\", \"Троси металеві\", \"Шини електричні\", \"Домкрати\", \"Інші механізми\", \"Машини для натяжки проводу та тросу\", \"Механізми спеціальні\", \"Насос різного призначення\", \"Преси гідравлічні\", \"Високочастотні обмежувачі\", \"Обмежувачі перенапруг\", \"Розрядники\", \"Оливи автомобільні\", \"Оливи інші\", \"Оливи трансформаторні\", \"Обладнання до опор\", \"Опори дерев'янні\", \"Опори залізобетонні\", \"Опори інші\", \"Опори металеві\", \"Бензин\", \"Газ\", \"Дизель\", \"Паливо для електростанцій\", \"Вимірювальні прилади\", \"Інші прилади обліку\", \"Лічильники\", \"Газорегуляторні пункти\", \"Реактори\", \"Комплектний розподільний пристрій (КРП)\", \"Інше обладнання релейного захисту та автоматики\", \"Автотрансформатори\", \"Вводи трансформаторні\", \"Інше трансформаторне обладнання\", \"Мобільні підстанції\", \"Трансформатори блочні\", \"Трансформатори напруги 6-35 кВ\", \"Трансформатори напруги 110-220 кВ\", \"Трансформатори напруги 330 кВ і вище\", \"Трансформаторні підстанції середньої напруги\", \"Трансформаторні підстанції високої напруги\", \"Трансформатори регулюючі\", \"Трансформатори силові до 6 кВ\", \"Трансформатори силові 10-40 кВ\", \"Трансформатори силові 110-220 кВ\", \"Трансформатори силові 330 кВ і вище\", \"Трансформатори струму (низької напруги)\", \"Трансформатори струму (середньої напруги)\", \"Трансформатори струму (високої напруги)\", \"Трансформатори струму та напруги комбіновані (середньої напруги)\", \"Трансформатори струму та напруги комбіновані (високої напруги)\", \"Труби для прокладання кабелю\", \"Трубна продукція\", \"Газотурбінні установки\", \"Парові турбіни\", \"Турбіни\", \"Інше турбогенераторне обладнання\", \"Блочний щит керування\", \"Мобільні приміщення\", \"Шафи та ящики\", \"Щити керування\"])]\n",
        "\n",
        "# Якщо в стовбчику \"Виконання, %\" значення >100, то замінимо його на 100\n",
        "df.loc[df['Виконання, %'] > 100, 'Виконання, %'] = 100\n",
        "\n",
        "# Додамо стовбчик \"Кількість потреб\" з значеннями 1\n",
        "df['Кількість потреб'] = 1\n",
        "\n",
        "####---------\n",
        "# В датафрейм df_two запишемо рядки з df, де значення стовбчика \"Назва  Набувача\" дорівнює 'ПрАТ \"ДОНЕЦЬКОБЛГАЗ\"' або 'ПрАТ \"ТЕРНОПІЛЬГАЗ\"'\n",
        "df_two = df[(df['Назва  Набувача'] == 'ПрАТ \"ДОНЕЦЬКОБЛГАЗ\"') | (df['Назва  Набувача'] == 'ПрАТ \"ТЕРНОПІЛЬГАЗ\"')]\n",
        "# В датафреймі df видалимо рядки, де значення стовбчика \"Назва  Набувача\" дорівнює 'ПрАТ \"ДОНЕЦЬКОБЛГАЗ\"' або 'ПрАТ \"ТЕРНОПІЛЬГАЗ\"'\n",
        "df = df.drop(df[(df['Назва  Набувача'] == 'ПрАТ \"ДОНЕЦЬКОБЛГАЗ\"') | (df['Назва  Набувача'] == 'ПрАТ \"ТЕРНОПІЛЬГАЗ\"')].index)\n",
        "\n",
        "# Залишимо такі стовбчики\n",
        "df = df[['Сфера діяльності', 'Кількість потреб', 'Виконання, %']]\n",
        "df_two = df_two[['Повне найменування потреби', 'Сфера діяльності', 'Кількість потреб', 'Виконання, %']]\n",
        "\n",
        "# Згрупуємо по областях ('Кількість потреб', і 'Виконання, %' візьмемо середнє значення, це прибере однакові назви товарів, але при цьому кількість потреб не зміниться, бо воно не сумуалось)\n",
        "df_two = df_two.groupby(['Сфера діяльності', 'Повне найменування потреби']).agg({'Кількість потреб': 'mean', 'Виконання, %': 'mean'}).reset_index()\n",
        "# Залишимо такі стовбчики\n",
        "df_two = df_two[['Сфера діяльності', 'Кількість потреб', 'Виконання, %']]\n",
        "df_two = df_two.groupby('Сфера діяльності').agg({'Кількість потреб': 'sum', 'Виконання, %': 'mean'}).reset_index()\n",
        "# Згрупуємо по областях (підсумуємо 'Кількість потреб', а 'Виконання, %' візьмемо середнє значення)\n",
        "df = df.groupby('Сфера діяльності').agg({'Кількість потреб': 'sum', 'Виконання, %': 'mean'}).reset_index()\n",
        "# об'єднаємо df_two і df\n",
        "df = pd.concat([df, df_two], ignore_index=True)\n",
        "####-----\n",
        "\n",
        "# Відсортуємо df по стовбцю 'Загальний обсяг' (від найбільшого до найменшого)\n",
        "df = df.sort_values(by='Кількість потреб', ascending=False)\n",
        "\n",
        "# Додамо до вже існуючого файлу\n",
        "with pd.ExcelWriter('/content/drive/MyDrive/energy-map/public/aid/temp.xlsx', mode='a') as writer:\n",
        "    df.to_excel(writer, sheet_name='ТОП потреби3')"
      ],
      "metadata": {
        "id": "QCZJfZcKVZmG"
      },
      "execution_count": null,
      "outputs": []
    },
    {
      "cell_type": "markdown",
      "source": [],
      "metadata": {
        "id": "6TQmDPReitQs"
      }
    },
    {
      "cell_type": "code",
      "source": [
        "# Найважливіші види запитів Підрахунок кількості запитів в розрізі Назви Набувача і задоволення потреб\n",
        "df = pd.read_excel('/content/drive/MyDrive/energy-map/public/aid/aid.xlsx', sheet_name=\"Потреби\", engine='openpyxl')\n",
        "#Залишимо в df лише ті рядки, де в стовбці \"Зона бойових дій\" значення не дорівнює \"-1\"\n",
        "df = df[df['Зона бойових дій'] != -1]\n",
        "\n",
        "df = df[df['Вид потреби'].isin([\"Засоби телекомунікації та телемеханіки\", \"Комп'ютери та ноутбуки\", \"Автовишки (автопiдйомники з люлькою)\", \"Автокрани\", \"Автомобілі бригадні вантажо-пасажирські\", \"Автомобілі для перевезення залізобетонних опор (опоровози)\", \"Автомобілі з маніпулятором\", \"Автомобілі самоскиди\", \"Автомобілі тягачі\", \"Автонавантажувачі\", \"Автопідйомники\", \"Автотранспорт (інше)\", \"Бурильно-кранові машини\", \"Екскаватори\", \"Електротехнічні лабораторії\", \"Трактори\", \"Причіпи автомобільні\", \"Спецтехніка (інше)\", \"Арматура запірна\", \"Арматура інша\", \"Арматура лінійна\", \"Арматура СІП\", \"Арматура нафтогазова\", \"Затискачі електричні з'єднувальні і натяжні (лінійні та апаратні)\", \"Муфти\", \"Наконечники алюмінієві\", \"Наконечники мідні\", \"Термічні клапани\", \"Траверси\", \"Вводи вимикачів\", \"Вимикачі автоматичні\", \"Вимикачі вакуумні\", \"Вимикачі елегазові\", \"Вимикачі повітрянні\", \"Вимикачі оливні\", \"Інше обладнання для вимикачів\", \"Камери дугогасіння\", \"Обладнання для елегазових вимикачів\", \"Перемикачі\", \"Роз'єднувачі\", \"Реклоузери\", \"Рубильники\", \"Гідравлічні двигуни\", \"Електродвигуни < 10 кВт\", \"Електродвигуни 11-110 кВт\", \"Електродвигуни > 110 кВт\", \"Двигуни (інше)\", \"Акумуляторні батареї\", \"Джерела безперебійного живлення\", \"<10 кВт\", \"10-30 кВт\", \"30-100 кВт\", \"100-300 кВт\", \"300-500 кВт\", \"500-700 кВт\", \"700-1000 кВт\", \"1000-1500 кВт\", \"1500-2000 кВт\", \">2000 кВт\", \"Генератори (запчастини, сервісні, ремонтні комплекти, інше)\", \"Запчастини\", \"Інвертори\", \"Інші засоби та обладнання\", \"Котельне обладнання\", \"Машини реверсивні\", \"Металошукачі\", \"Обладнання для вітрових електростанцій\", \"Обладнання для газових мереж\", \"Обладнання для сонячних електростанцій\", \"Обладнання для шахт\", \"Освітлювальні пристрої\", \"Регулятор тиску газу\", \"Трасошукачі газові\", \"Ізолятори\", \"Ізолятори підвісні\", \"Інша кабельна продукція\", \"Кабель з'єднувальний\", \"Кабель контрольний\", \"Кабель силовий < 0,4 кВ\", \"Кабель силовий 0,4-1 кВ\", \"Кабель силовий 6-35 кВ\", \"Кабель силовий > 110 кВ\", \"Провід ізольований\", \"Провід неізольований\", \"Провід самонесучий ізольований (СІП)\", \"Компресори (інші)\", \"Компресори підстанційні\", \"Інші матеріали\", \"Матеріали для ремонту газорозподільчої мережі\", \"Матеріали для ремонту електромережі\", \"Матеріали зі сталі\", \"Заземлювачі нейтралі\", \"Комплекти тимчасасового заземлення\", \"Матеріали з дерева\", \"Провід\", \"Стрічка конвеєрна\", \"Трос грозозахисний\", \"Троси металеві\", \"Шини електричні\", \"Домкрати\", \"Інші механізми\", \"Машини для натяжки проводу та тросу\", \"Механізми спеціальні\", \"Насос різного призначення\", \"Преси гідравлічні\", \"Високочастотні обмежувачі\", \"Обмежувачі перенапруг\", \"Розрядники\", \"Оливи автомобільні\", \"Оливи інші\", \"Оливи трансформаторні\", \"Обладнання до опор\", \"Опори дерев'янні\", \"Опори залізобетонні\", \"Опори інші\", \"Опори металеві\", \"Бензин\", \"Газ\", \"Дизель\", \"Паливо для електростанцій\", \"Вимірювальні прилади\", \"Інші прилади обліку\", \"Лічильники\", \"Газорегуляторні пункти\", \"Реактори\", \"Комплектний розподільний пристрій (КРП)\", \"Інше обладнання релейного захисту та автоматики\", \"Автотрансформатори\", \"Вводи трансформаторні\", \"Інше трансформаторне обладнання\", \"Мобільні підстанції\", \"Трансформатори блочні\", \"Трансформатори напруги 6-35 кВ\", \"Трансформатори напруги 110-220 кВ\", \"Трансформатори напруги 330 кВ і вище\", \"Трансформаторні підстанції середньої напруги\", \"Трансформаторні підстанції високої напруги\", \"Трансформатори регулюючі\", \"Трансформатори силові до 6 кВ\", \"Трансформатори силові 10-40 кВ\", \"Трансформатори силові 110-220 кВ\", \"Трансформатори силові 330 кВ і вище\", \"Трансформатори струму (низької напруги)\", \"Трансформатори струму (середньої напруги)\", \"Трансформатори струму (високої напруги)\", \"Трансформатори струму та напруги комбіновані (середньої напруги)\", \"Трансформатори струму та напруги комбіновані (високої напруги)\", \"Труби для прокладання кабелю\", \"Трубна продукція\", \"Газотурбінні установки\", \"Парові турбіни\", \"Турбіни\", \"Інше турбогенераторне обладнання\", \"Блочний щит керування\", \"Мобільні приміщення\", \"Шафи та ящики\", \"Щити керування\"])]\n",
        "\n",
        "# Якщо в стовбчику \"Виконання, %\" значення >100, то замінимо його на 100\n",
        "df.loc[df['Виконання, %'] > 100, 'Виконання, %'] = 100\n",
        "\n",
        "# Додамо стовбчик \"Кількість потреб\" з значеннями 1\n",
        "df['Кількість потреб'] = 1\n",
        "\n",
        "####---------\n",
        "# В датафрейм df_two запишемо рядки з df, де значення стовбчика \"Назва  Набувача\" дорівнює 'ПрАТ \"ДОНЕЦЬКОБЛГАЗ\"' або 'ПрАТ \"ТЕРНОПІЛЬГАЗ\"'\n",
        "df_two = df[(df['Назва  Набувача'] == 'ПрАТ \"ДОНЕЦЬКОБЛГАЗ\"') | (df['Назва  Набувача'] == 'ПрАТ \"ТЕРНОПІЛЬГАЗ\"')]\n",
        "# В датафреймі df видалимо рядки, де значення стовбчика \"Назва  Набувача\" дорівнює 'ПрАТ \"ДОНЕЦЬКОБЛГАЗ\"' або 'ПрАТ \"ТЕРНОПІЛЬГАЗ\"'\n",
        "df = df.drop(df[(df['Назва  Набувача'] == 'ПрАТ \"ДОНЕЦЬКОБЛГАЗ\"') | (df['Назва  Набувача'] == 'ПрАТ \"ТЕРНОПІЛЬГАЗ\"')].index)\n",
        "\n",
        "# Залишимо такі стовбчики\n",
        "df = df[['Назва  Набувача', 'Кількість потреб', 'Виконання, %']]\n",
        "df_two = df_two[['Повне найменування потреби', 'Назва  Набувача', 'Кількість потреб', 'Виконання, %']]\n",
        "\n",
        "# Згрупуємо по областях ('Кількість потреб', і 'Виконання, %' візьмемо середнє значення, це прибере однакові назви товарів, але при цьому кількість потреб не зміниться, бо воно не сумуалось)\n",
        "df_two = df_two.groupby(['Назва  Набувача', 'Повне найменування потреби']).agg({'Кількість потреб': 'mean', 'Виконання, %': 'mean'}).reset_index()\n",
        "# Залишимо такі стовбчики\n",
        "df_two = df_two[['Назва  Набувача', 'Кількість потреб', 'Виконання, %']]\n",
        "df_two = df_two.groupby('Назва  Набувача').agg({'Кількість потреб': 'sum', 'Виконання, %': 'mean'}).reset_index()\n",
        "# Згрупуємо по областях (підсумуємо 'Кількість потреб', а 'Виконання, %' візьмемо середнє значення)\n",
        "df = df.groupby('Назва  Набувача').agg({'Кількість потреб': 'sum', 'Виконання, %': 'mean'}).reset_index()\n",
        "# об'єднаємо df_two і df\n",
        "df = pd.concat([df, df_two], ignore_index=True)\n",
        "####-----\n",
        "\n",
        "# Відсортуємо df по стовбцю 'Загальний обсяг' (від найбільшого до найменшого)\n",
        "df = df.sort_values(by='Кількість потреб', ascending=False)\n",
        "# Залишимо лише 10 перших рядків\n",
        "# df = df.head(10)\n",
        "\n",
        "\n",
        "# Додамо до вже існуючого файлу\n",
        "with pd.ExcelWriter('/content/drive/MyDrive/energy-map/public/aid/temp.xlsx', mode='a') as writer:\n",
        "    df.to_excel(writer, sheet_name='ТОП потреби4')"
      ],
      "metadata": {
        "id": "_QiIDdOZ1rxq"
      },
      "execution_count": null,
      "outputs": []
    }
  ]
}